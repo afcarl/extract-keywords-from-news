{
 "cells": [
  {
   "cell_type": "code",
   "execution_count": 301,
   "metadata": {
    "collapsed": true
   },
   "outputs": [],
   "source": [
    "import glob\n",
    "import gensim\n",
    "import pandas as pd\n",
    "import logging\n",
    "import nltk\n",
    "from nltk.tokenize import RegexpTokenizer\n",
    "from nltk.stem import WordNetLemmatizer\n",
    "from nltk.corpus import stopwords\n",
    "\n",
    "wordnet_lemmatizer = WordNetLemmatizer()\n",
    "tokenizer = RegexpTokenizer(r'\\w+')\n",
    "STOPWORDS = set(stopwords.words('english'))\n",
    "STOPWORDS.update(['.', ',', '\"', \"'\", '?', '!', ':', ';', '(', ')', '[', ']', '{', '}'])\n",
    "\n",
    "logging.basicConfig(format='%(asctime)s : %(levelname)s : %(message)s', level=logging.INFO)"
   ]
  },
  {
   "cell_type": "code",
   "execution_count": 437,
   "metadata": {},
   "outputs": [
    {
     "name": "stdout",
     "output_type": "stream",
     "text": [
      "Reading data/entrepreneur.csv  =>  826 rows\n",
      "Unique row: 826\n"
     ]
    },
    {
     "data": {
      "text/html": [
       "<div>\n",
       "<style>\n",
       "    .dataframe thead tr:only-child th {\n",
       "        text-align: right;\n",
       "    }\n",
       "\n",
       "    .dataframe thead th {\n",
       "        text-align: left;\n",
       "    }\n",
       "\n",
       "    .dataframe tbody tr th {\n",
       "        vertical-align: top;\n",
       "    }\n",
       "</style>\n",
       "<table border=\"1\" class=\"dataframe\">\n",
       "  <thead>\n",
       "    <tr style=\"text-align: right;\">\n",
       "      <th></th>\n",
       "      <th>url</th>\n",
       "      <th>title</th>\n",
       "      <th>short_text</th>\n",
       "      <th>long_text</th>\n",
       "      <th>tag</th>\n",
       "      <th>time</th>\n",
       "    </tr>\n",
       "  </thead>\n",
       "  <tbody>\n",
       "    <tr>\n",
       "      <th>0</th>\n",
       "      <td>/article/296425</td>\n",
       "      <td>3 Touch Points to Better Engage a Multigenerat...</td>\n",
       "      <td>Smart HCM technology can help organizations cr...</td>\n",
       "      <td>Free Webinar | August 16thFind out how to opti...</td>\n",
       "      <td>Human Resources</td>\n",
       "      <td>2017-07-24 16:30:00</td>\n",
       "    </tr>\n",
       "    <tr>\n",
       "      <th>1</th>\n",
       "      <td>/article/297614</td>\n",
       "      <td>The 'Al Capone Theory' Shows How Sexual Harass...</td>\n",
       "      <td>When you hire and partner, look for people who...</td>\n",
       "      <td>Recode reported yesterday that Vinod Khosla, t...</td>\n",
       "      <td>Inspiring Your Team</td>\n",
       "      <td>2017-07-21 17:48:00</td>\n",
       "    </tr>\n",
       "    <tr>\n",
       "      <th>2</th>\n",
       "      <td>/article/296710</td>\n",
       "      <td>This Question Reveals the Truth About Workplac...</td>\n",
       "      <td>How is your business handling workplace divers...</td>\n",
       "      <td>Imagine your organization is expanding into Te...</td>\n",
       "      <td>Inspiring Your Team</td>\n",
       "      <td>2017-07-13 16:45:00</td>\n",
       "    </tr>\n",
       "    <tr>\n",
       "      <th>3</th>\n",
       "      <td>/article/296696</td>\n",
       "      <td>How to Know It's Time to Add an HR Department</td>\n",
       "      <td>HR activities at startups are often reactive i...</td>\n",
       "      <td>When starting their businesses, most entrepren...</td>\n",
       "      <td>Business Moving Forward</td>\n",
       "      <td>2017-07-10 19:15:00</td>\n",
       "    </tr>\n",
       "    <tr>\n",
       "      <th>4</th>\n",
       "      <td>/article/296461</td>\n",
       "      <td>4 Gamification Platforms That Show Why You Can...</td>\n",
       "      <td>Companies are letting their employees play \"ga...</td>\n",
       "      <td>Free Webinar | August 16thFind out how to opti...</td>\n",
       "      <td>Gamification</td>\n",
       "      <td>2017-06-29 17:00:00</td>\n",
       "    </tr>\n",
       "  </tbody>\n",
       "</table>\n",
       "</div>"
      ],
      "text/plain": [
       "               url                                              title  \\\n",
       "0  /article/296425  3 Touch Points to Better Engage a Multigenerat...   \n",
       "1  /article/297614  The 'Al Capone Theory' Shows How Sexual Harass...   \n",
       "2  /article/296710  This Question Reveals the Truth About Workplac...   \n",
       "3  /article/296696      How to Know It's Time to Add an HR Department   \n",
       "4  /article/296461  4 Gamification Platforms That Show Why You Can...   \n",
       "\n",
       "                                          short_text  \\\n",
       "0  Smart HCM technology can help organizations cr...   \n",
       "1  When you hire and partner, look for people who...   \n",
       "2  How is your business handling workplace divers...   \n",
       "3  HR activities at startups are often reactive i...   \n",
       "4  Companies are letting their employees play \"ga...   \n",
       "\n",
       "                                           long_text                      tag  \\\n",
       "0  Free Webinar | August 16thFind out how to opti...          Human Resources   \n",
       "1  Recode reported yesterday that Vinod Khosla, t...      Inspiring Your Team   \n",
       "2  Imagine your organization is expanding into Te...      Inspiring Your Team   \n",
       "3  When starting their businesses, most entrepren...  Business Moving Forward   \n",
       "4  Free Webinar | August 16thFind out how to opti...             Gamification   \n",
       "\n",
       "                  time  \n",
       "0  2017-07-24 16:30:00  \n",
       "1  2017-07-21 17:48:00  \n",
       "2  2017-07-13 16:45:00  \n",
       "3  2017-07-10 19:15:00  \n",
       "4  2017-06-29 17:00:00  "
      ]
     },
     "execution_count": 437,
     "metadata": {},
     "output_type": "execute_result"
    }
   ],
   "source": [
    "KEYWORD_TYPE = 'entrepreneur' # entrepreneur, layoff, reuter\n",
    "INPUT_FILE = \"data/\"+ KEYWORD_TYPE +\".csv\"\n",
    "\n",
    "data = pd.read_csv(INPUT_FILE, encoding='utf-8', dtype={'short_text': str, 'long_text': str})\n",
    "print 'Reading', INPUT_FILE, ' => ' , len(data.index), 'rows'\n",
    "data.drop_duplicates(inplace=True)\n",
    "data['short_text'] = data.short_text.astype(str)\n",
    "print \"Unique row:\", len(data)\n",
    "data.head()"
   ]
  },
  {
   "cell_type": "code",
   "execution_count": 404,
   "metadata": {},
   "outputs": [
    {
     "name": "stdout",
     "output_type": "stream",
     "text": [
      "Unique row: 1858\n"
     ]
    }
   ],
   "source": [
    "allFiles = glob.glob(\"data/*.csv\")\n",
    "data = pd.DataFrame()\n",
    "list_ = []\n",
    "for file_ in allFiles:\n",
    "    df = pd.read_csv(file_, dtype={'short_text': str, 'long_text': str})\n",
    "    list_.append(df)\n",
    "data = pd.concat(list_)\n",
    "\n",
    "data.drop_duplicates(inplace=True)\n",
    "print \"Unique row:\", len(data)\n",
    "data.head()\n",
    "\n",
    "data.to_csv(\"concat.csv\")"
   ]
  },
  {
   "cell_type": "code",
   "execution_count": 438,
   "metadata": {
    "scrolled": true
   },
   "outputs": [
    {
     "name": "stdout",
     "output_type": "stream",
     "text": [
      "[[u'3', u'touch', u'point', u'better', u'engage', u'multigenerational', u'workforce', u'free', u'webinar', u'august', u'16thfind', u'optimize', u'website', u'give', u'customer', u'experience', u'biggest', u'roi', u'business', u'register', u'many', u'workplace', u'today', u'unprecedented', u'position', u'five', u'generation', u'working', u'together', u'side', u'side', u'exact', u'definition', u'generation', u'may', u'vary', u'slightly', u'office', u'workplace', u'today', u'could', u'include', u'member', u'traditionalist', u'born', u'1927', u'1945', u'baby', u'boomer', u'1946', u'1964', u'generation', u'x', u'1965', u'1980', u'millennials', u'generation', u'1981', u'1996', u'generation', u'z', u'born', u'1997', u'later', u'would', u'agree', u'generalization', u'like', u'generational', u'bucket', u'helpful', u'point', u'multigenerational', u'workforce', u'challenge', u'employer', u'meet', u'broad', u'range', u'need', u'expectation', u'making', u'matter', u'complicated', u'typical', u'full', u'time', u'part', u'time', u'position', u'augmented', u'gig', u'economy', u'role', u'freelance', u'contract', u'temporary', u'employment', u'option', u'related', u'10', u'new', u'hr', u'software', u'solution', u'2017when', u'pair', u'complex', u'diverse', u'workforce', u'growing', u'competition', u'attract', u'retain', u'top', u'talent', u'easy', u'see', u'culture', u'work', u'environment', u'become', u'key', u'focus', u'employer', u'looking', u'gain', u'strategic', u'advantage', u'price', u'disengaged', u'workforceaccording', u'deloitte', u'university', u'press', u'global', u'human', u'capital', u'trend', u'2016', u'report', u'employee', u'engagement', u'headline', u'issue', u'throughout', u'business', u'hr', u'fully', u'85', u'percent', u'survey', u'respondent', u'ranked', u'engagement', u'top', u'priority', u'yet', u'46', u'percent', u'reported', u'prepared', u'address', u'engagement', u'challenge', u'attention', u'paid', u'topic', u'employee', u'engagement', u'remained', u'fairly', u'static', u'around', u'30', u'percent', u'since', u'2014', u'experienced', u'large', u'year', u'year', u'improvement', u'gallup', u'15', u'year', u'history', u'measuring', u'tracking', u'metric', u'fact', u'according', u'gallup', u'almost', u'20', u'percent', u'u', u'worker', u'actively', u'disengaged', u'employee', u'likely', u'undermine', u'coworkers', u'sabotage', u'project', u'perhaps', u'worse', u'u', u'worker', u'51', u'percent', u'continue', u'fall', u'engaged', u'category', u'employee', u'typically', u'negatively', u'affect', u'business', u'performance', u'tend', u'minimum', u'asked', u'likely', u'go', u'extra', u'mile', u'client', u'customer', u'overall', u'gallup', u'report', u'disengagement', u'cost', u'u', u'around', u'500', u'billion', u'annually', u'related', u'staff', u'turnover', u'draining', u'companyhow', u'technology', u'helpclearly', u'disengagement', u'big', u'costly', u'problem', u'ignore', u'smart', u'human', u'capital', u'management', u'technology', u'help', u'organization', u'create', u'compelling', u'work', u'environment', u'make', u'employee', u'feel', u'valued', u'treated', u'fairly', u'give', u'extra', u'discretionary', u'effort', u'organization', u'regardless', u'generation', u'employment', u'status', u'position', u'three', u'area', u'good', u'hcm', u'technology', u'strategy', u'implementation', u'make', u'real', u'difference', u'1', u'recruiting', u'recruiting', u'area', u'technology', u'user', u'experience', u'play', u'critical', u'role', u'getting', u'engagement', u'effort', u'right', u'foot', u'recent', u'survey', u'found', u'20', u'percent', u'job', u'seeker', u'would', u'give', u'online', u'application', u'complete', u'mobile', u'device', u'although', u'70', u'percent', u'job', u'seeker', u'interested', u'applying', u'job', u'via', u'smartphone', u'quarter', u'large', u'company', u'surveyed', u'optimized', u'hiring', u'process', u'mobile', u'device', u'significant', u'gap', u'employer', u'look', u'close', u'improving', u'user', u'experience', u'efficiency', u'hiring', u'process', u'eas', u'demand', u'manager', u'ensures', u'good', u'candidate', u'get', u'lost', u'process', u'addition', u'use', u'prescreening', u'tool', u'help', u'get', u'short', u'list', u'best', u'fit', u'candidate', u'hiring', u'manager', u'recruiter', u'spend', u'time', u'efficiently', u'alert', u'notification', u'automated', u'workflow', u'also', u'make', u'process', u'easier', u'efficient', u'keeping', u'everyone', u'involved', u'task', u'related', u'6', u'step', u'hr', u'team', u'take', u'leave', u'dark', u'ages2', u'performance', u'management', u'performance', u'management', u'drive', u'engagement', u'entire', u'workforce', u'manager', u'need', u'provide', u'employee', u'continuous', u'feedback', u'instead', u'traditional', u'approach', u'annual', u'review', u'discipline', u'necessary', u'employee', u'know', u'ongoing', u'activity', u'align', u'corporate', u'goal', u'perform', u'higher', u'level', u'stay', u'organization', u'longer', u'hcm', u'technology', u'provides', u'manager', u'tool', u'provide', u'ongoing', u'feedback', u'employee', u'activity', u'connected', u'goal', u'key', u'performance', u'indicator', u'promote', u'ongoing', u'performance', u'development', u'manage', u'compensation', u'stay', u'top', u'learning', u'development', u'advance', u'skill', u'providing', u'easy', u'use', u'mobile', u'interface', u'help', u'create', u'engaged', u'motivated', u'productive', u'workforce', u'3', u'scheduling', u'employee', u'access', u'flexible', u'scheduling', u'tool', u'manage', u'working', u'hour', u'company', u'see', u'significant', u'impact', u'performance', u'engagement', u'retention', u'today', u'hcm', u'solution', u'help', u'organization', u'involve', u'employee', u'decision', u'around', u'work', u'tool', u'like', u'shift', u'swapping', u'self', u'service', u'tool', u'increase', u'flexibility', u'employee', u'relieve', u'manager', u'burden', u'frantically', u'filling', u'open', u'shift', u'last', u'minute', u'finding', u'recent', u'aptitude', u'research', u'partner', u'study', u'showed', u'organization', u'offer', u'shift', u'swapping', u'capability', u'matter', u'industry', u'55', u'percent', u'likely', u'indicate', u'higher', u'industry', u'average', u'level', u'engagement', u'53', u'percent', u'likely', u'indicate', u'average', u'turnover', u'industry', u'related', u'why', u'consider', u'hr', u'software', u'small', u'businesswhy', u'tech', u'requires', u'new', u'processeswhen', u'thinking', u'area', u'hcm', u'technology', u'help', u'improve', u'user', u'experience', u'increase', u'employee', u'engagement', u'critical', u'remember', u'even', u'best', u'technology', u'may', u'fail', u'yield', u'result', u'process', u'behind', u'ignored', u'process', u'improvement', u'go', u'hand', u'hand', u'technology', u'investment', u'organization', u'looking', u'implement', u'new', u'hcm', u'system', u'always', u'consider', u'current', u'workflow', u'place', u'improved', u'upon', u'must', u'also', u'decide', u'whether', u'leverage', u'unified', u'platform', u'inclusive', u'hr', u'workforce', u'management', u'payroll', u'seek', u'best', u'breed', u'solution', u'functional', u'area', u'former', u'provide', u'single', u'source', u'truth', u'provides', u'well', u'rounded', u'picture', u'people', u'trend', u'based', u'workforce', u'data', u'latter', u'may', u'require', u'deep', u'specialization', u'maximize', u'value', u'investment', u'leading', u'company', u'work', u'hard', u'deliver', u'superior', u'customer', u'experience', u'attract', u'engage', u'retain', u'cultivate', u'customer', u'client', u'organization', u'must', u'apply', u'similar', u'lens', u'workforce', u'looking', u'way', u'make', u'employee', u'experience', u'easier', u'rewarding', u'transparent', u'professionally', u'fulfilling', u'regardless', u'generation', u'robert', u'delponterobert', u'delponte', u'vice', u'president', u'general', u'manager', u'human', u'capital', u'management', u'hcm', u'practice', u'group', u'kronos', u'incorporated', u'role', u'delponte', u'responsible', u'strategic', u'development', u'go', u'market', u'strategy', u'market', u'read'], [u'al', u'capone', u'theory', u'show', u'sexual', u'harassment', u'hurt', u'bottom', u'line', u'recode', u'reported', u'yesterday', u'vinod', u'khosla', u'billionaire', u'founder', u'khosla', u'venture', u'say', u'speaking', u'engagement', u'sexual', u'harassment', u'world', u'venture', u'capital', u'know', u'discrimination', u'khosla', u'went', u'say', u'thought', u'rarer', u'business', u'reality', u'perceived', u'reality', u'comment', u'came', u'several', u'week', u'stretch', u'shown', u'real', u'discrimination', u'related', u'uber', u'fire', u'20', u'employee', u'harassmentin', u'june', u'following', u'six', u'allegation', u'sexual', u'harassment', u'vc', u'justin', u'caldbeck', u'released', u'statement', u'resigned', u'fund', u'co', u'founded', u'binary', u'capital', u'shut', u'completely', u'shortly', u'thereafter', u'june', u'30', u'new', u'york', u'time', u'published', u'article', u'titled', u'woman', u'tech', u'speak', u'frankly', u'culture', u'harassment', u'writer', u'katie', u'brenner', u'spoke', u'female', u'founder', u'subjected', u'unwanted', u'advance', u'named', u'number', u'high', u'profile', u'vcs', u'including', u'chris', u'sacca', u'500', u'startup', u'co', u'founder', u'dave', u'mcclure', u'mcclure', u'resigned', u'role', u'500', u'startup', u'female', u'co', u'founder', u'christine', u'tsai', u'took', u'mcclure', u'sacca', u'took', u'medium', u'attempt', u'behavior', u'though', u'contacted', u'named', u'paper', u'record', u'related', u'blind', u'workplace', u'harassment', u'5', u'tough', u'question', u'askin', u'post', u'creep', u'sorry', u'mcclure', u'wrote', u'confronted', u'happened', u'first', u'defensive', u'wrong', u'hanging', u'people', u'upset', u'tried', u'present', u'crappy', u'behavior', u'best', u'possible', u'light', u'much', u'empathy', u'people', u'hurt', u'offended', u'rather', u'face', u'shallow', u'motivation', u'rationalized', u'action', u'came', u'reason', u'find', u'blame', u'others', u'rather', u'solely', u'sacca', u'post', u'titled', u'work', u'wrote', u'particularly', u'reflecting', u'upon', u'early', u'year', u'silicon', u'valley', u'doubt', u'said', u'thing', u'made', u'woman', u'feel', u'awkward', u'unwelcome', u'insecure', u'discouraged', u'social', u'setting', u'guise', u'joking', u'collegial', u'flirting', u'good', u'time', u'undoubtedly', u'caused', u'woman', u'question', u'retreat', u'feel', u'alone', u'worry', u'authentic', u'self', u'stupidly', u'perpetuating', u'culture', u'rife', u'busting', u'chop', u'teasing', u'peer', u'pressure', u'go', u'drinking', u'made', u'woman', u'feel', u'self', u'conscious', u'anxious', u'fear', u'might', u'taken', u'seriously', u'response', u'series', u'high', u'profile', u'incident', u'valerie', u'aurora', u'principal', u'consultant', u'frame', u'shift', u'consulting', u'firm', u'help', u'company', u'promote', u'diversity', u'inclusion', u'leigh', u'honeywell', u'co', u'founder', u'female', u'driven', u'makerspaces', u'hacklabto', u'seattle', u'attic', u'community', u'workshop', u'shared', u'call', u'al', u'capone', u'theory', u'sexual', u'harassment', u'related', u'5', u'way', u'create', u'healthy', u'thriving', u'tech', u'company', u'culturethe', u'pair', u'explained', u'infamous', u'crime', u'bos', u'caught', u'relatively', u'prosaic', u'felony', u'paying', u'tax', u'rather', u'garish', u'one', u'committed', u'silicon', u'valley', u'culture', u'harassment', u'u', u'government', u'recognized', u'pattern', u'al', u'capone', u'case', u'smuggling', u'good', u'crime', u'often', u'paired', u'failing', u'pay', u'tax', u'proceeds', u'smuggling', u'noticed', u'similar', u'pattern', u'report', u'sexual', u'harassment', u'assault', u'often', u'people', u'engage', u'sexually', u'predatory', u'behavior', u'also', u'faked', u'expense', u'report', u'plagiarized', u'writing', u'stole', u'credit', u'people', u'work', u'behavior', u'action', u'someone', u'feel', u'entitled', u'people', u'property', u'regardless', u'whether', u'someone', u'else', u'idea', u'work', u'money', u'body', u'say', u'founder', u'responsibility', u'employee', u'build', u'organization', u'people', u'feel', u'safe', u'best', u'work', u'position', u'hire', u'partner', u'due', u'diligence', u'background', u'people', u'bring', u'orbit', u'cannot', u'ignore', u'brush', u'aside', u'kind', u'behavior', u'one', u'incident', u'way', u'thing', u'allow', u'harmful', u'actor', u'thrive', u'environment', u'around', u'suffers', u'quote', u'late', u'educator', u'author', u'activist', u'maya', u'angelou', u'someone', u'show', u'believe', u'first', u'time', u'nina', u'zipkinnina', u'zipkin', u'staff', u'writer', u'entrepreneur', u'com', u'frequently', u'cover', u'medium', u'tech', u'startup', u'culture', u'workplace', u'trend', u'read']]\n"
     ]
    }
   ],
   "source": [
    "# remove common words and tokenize\n",
    "data['full_content'] = data['title'] + ' ' + data['long_text']\n",
    "full_content = data['full_content'].tolist()\n",
    "full_content = [[wordnet_lemmatizer.lemmatize(z) for z in tokenizer.tokenize(str(t).decode('utf-8').lower()) if z not in STOPWORDS] for t in full_content]\n",
    "# full_content = [[z for z in str(t).lower().split(\" \") if z not in STOPWORDS] for t in full_content]\n",
    "print full_content[:2]\n",
    "with open(\"full_content\", \"wb\") as f:\n",
    "    f.write(str(full_content))"
   ]
  },
  {
   "cell_type": "code",
   "execution_count": 439,
   "metadata": {},
   "outputs": [
    {
     "name": "stdout",
     "output_type": "stream",
     "text": [
      "[[u'3', u'touch', u'point', u'better', u'engage', u'multigenerational', u'workforce', u'free', u'webinar', u'august', u'16thfind', u'optimize', u'website', u'give', u'customer', u'experience', u'biggest', u'roi', u'business', u'register', u'many', u'workplace', u'today', u'unprecedented', u'position', u'five', u'generation', u'working', u'together', u'side', u'side', u'exact', u'definition', u'generation', u'may', u'vary', u'slightly', u'office', u'workplace', u'today', u'could', u'include', u'member', u'traditionalist', u'born', u'1927', u'1945', u'baby', u'boomer', u'1946', u'1964', u'generation', u'x', u'1965', u'1980', u'millennials', u'generation', u'1981', u'1996', u'generation', u'z', u'born', u'1997', u'later', u'would', u'agree', u'generalization', u'like', u'generational', u'bucket', u'helpful', u'point', u'multigenerational', u'workforce', u'challenge', u'employer', u'meet', u'broad', u'range', u'need', u'expectation', u'making', u'matter', u'complicated', u'typical', u'full', u'time', u'part', u'time', u'position', u'augmented', u'gig', u'economy', u'role', u'freelance', u'contract', u'temporary', u'employment', u'option', u'related', u'10', u'new', u'hr', u'software', u'solution', u'2017when', u'pair', u'complex', u'diverse', u'workforce', u'growing', u'competition', u'attract', u'retain', u'top', u'talent', u'easy', u'see', u'culture', u'work', u'environment', u'become', u'key', u'focus', u'employer', u'looking', u'gain', u'strategic', u'advantage', u'price', u'disengaged', u'workforceaccording', u'deloitte', u'university', u'press', u'global', u'human', u'capital', u'trend', u'2016', u'report', u'employee', u'engagement', u'headline', u'issue', u'throughout', u'business', u'hr', u'fully', u'85', u'percent', u'survey', u'respondent', u'ranked', u'engagement', u'top', u'priority', u'yet', u'46', u'percent', u'reported', u'prepared', u'address', u'engagement', u'challenge', u'attention', u'paid', u'topic', u'employee', u'engagement', u'remained', u'fairly', u'static', u'around', u'30', u'percent', u'since', u'2014', u'experienced', u'large', u'year', u'year', u'improvement', u'gallup', u'15', u'year', u'history', u'measuring', u'tracking', u'metric', u'fact', u'according', u'gallup', u'almost', u'20', u'percent', u'u', u'worker', u'actively', u'disengaged', u'employee', u'likely', u'undermine', u'coworkers', u'sabotage', u'project', u'perhaps', u'worse', u'u', u'worker', u'51', u'percent', u'continue', u'fall', u'engaged', u'category', u'employee', u'typically', u'negatively', u'affect', u'business', u'performance', u'tend', u'minimum', u'asked', u'likely', u'go', u'extra', u'mile', u'client', u'customer', u'overall', u'gallup', u'report', u'disengagement', u'cost', u'u', u'around', u'500', u'billion', u'annually', u'related', u'staff', u'turnover', u'draining', u'companyhow', u'technology', u'helpclearly', u'disengagement', u'big', u'costly', u'problem', u'ignore', u'smart', u'human', u'capital', u'management', u'technology', u'help', u'organization', u'create', u'compelling', u'work', u'environment', u'make', u'employee', u'feel', u'valued', u'treated', u'fairly', u'give', u'extra', u'discretionary', u'effort', u'organization', u'regardless', u'generation', u'employment', u'status', u'position', u'three', u'area', u'good', u'hcm', u'technology', u'strategy', u'implementation', u'make', u'real', u'difference', u'1', u'recruiting', u'recruiting', u'area', u'technology', u'user', u'experience', u'play', u'critical', u'role', u'getting', u'engagement', u'effort', u'right', u'foot', u'recent', u'survey', u'found', u'20', u'percent', u'job', u'seeker', u'would', u'give', u'online', u'application', u'complete', u'mobile', u'device', u'although', u'70', u'percent', u'job', u'seeker', u'interested', u'applying', u'job', u'via', u'smartphone', u'quarter', u'large', u'company', u'surveyed', u'optimized', u'hiring', u'process', u'mobile', u'device', u'significant', u'gap', u'employer', u'look', u'close', u'improving', u'user', u'experience', u'efficiency', u'hiring', u'process', u'eas', u'demand', u'manager', u'ensures', u'good', u'candidate', u'get', u'lost', u'process', u'addition', u'use', u'prescreening', u'tool', u'help', u'get', u'short', u'list', u'best', u'fit', u'candidate', u'hiring', u'manager', u'recruiter', u'spend', u'time', u'efficiently', u'alert', u'notification', u'automated', u'workflow', u'also', u'make', u'process', u'easier', u'efficient', u'keeping', u'everyone', u'involved', u'task', u'related', u'6', u'step', u'hr', u'team', u'take', u'leave', u'dark', u'ages2', u'performance', u'management', u'performance', u'management', u'drive', u'engagement', u'entire', u'workforce', u'manager', u'need', u'provide', u'employee', u'continuous', u'feedback', u'instead', u'traditional', u'approach', u'annual', u'review', u'discipline', u'necessary', u'employee', u'know', u'ongoing', u'activity', u'align', u'corporate', u'goal', u'perform', u'higher', u'level', u'stay', u'organization', u'longer', u'hcm', u'technology', u'provides', u'manager', u'tool', u'provide', u'ongoing', u'feedback', u'employee', u'activity', u'connected', u'goal', u'key', u'performance', u'indicator', u'promote', u'ongoing', u'performance', u'development', u'manage', u'compensation', u'stay', u'top', u'learning', u'development', u'advance', u'skill', u'providing', u'easy', u'use', u'mobile', u'interface', u'help', u'create', u'engaged', u'motivated', u'productive', u'workforce', u'3', u'scheduling', u'employee', u'access', u'flexible', u'scheduling', u'tool', u'manage', u'working', u'hour', u'company', u'see', u'significant', u'impact', u'performance', u'engagement', u'retention', u'today', u'hcm', u'solution', u'help', u'organization', u'involve', u'employee', u'decision', u'around', u'work', u'tool', u'like', u'shift', u'swapping', u'self', u'service', u'tool', u'increase', u'flexibility', u'employee', u'relieve', u'manager', u'burden', u'frantically', u'filling', u'open', u'shift', u'last', u'minute', u'finding', u'recent', u'aptitude', u'research', u'partner', u'study', u'showed', u'organization', u'offer', u'shift', u'swapping', u'capability', u'matter', u'industry', u'55', u'percent', u'likely', u'indicate', u'higher', u'industry', u'average', u'level', u'engagement', u'53', u'percent', u'likely', u'indicate', u'average', u'turnover', u'industry', u'related', u'why', u'consider', u'hr', u'software', u'small', u'businesswhy', u'tech', u'requires', u'new', u'processeswhen', u'thinking', u'area', u'hcm', u'technology', u'help', u'improve', u'user', u'experience', u'increase', u'employee', u'engagement', u'critical', u'remember', u'even', u'best', u'technology', u'may', u'fail', u'yield', u'result', u'process', u'behind', u'ignored', u'process', u'improvement', u'go', u'hand', u'hand', u'technology', u'investment', u'organization', u'looking', u'implement', u'new', u'hcm', u'system', u'always', u'consider', u'current', u'workflow', u'place', u'improved', u'upon', u'must', u'also', u'decide', u'whether', u'leverage', u'unified', u'platform', u'inclusive', u'hr', u'workforce', u'management', u'payroll', u'seek', u'best', u'breed', u'solution', u'functional', u'area', u'former', u'provide', u'single', u'source', u'truth', u'provides', u'well', u'rounded', u'picture', u'people', u'trend', u'based', u'workforce', u'data', u'latter', u'may', u'require', u'deep', u'specialization', u'maximize', u'value', u'investment', u'leading', u'company', u'work', u'hard', u'deliver', u'superior', u'customer', u'experience', u'attract', u'engage', u'retain', u'cultivate', u'customer', u'client', u'organization', u'must', u'apply', u'similar', u'lens', u'workforce', u'looking', u'way', u'make', u'employee', u'experience', u'easier', u'rewarding', u'transparent', u'professionally', u'fulfilling', u'regardless', u'generation', u'robert', u'delponterobert', u'delponte', u'vice', u'president', u'general', u'manager', u'human', u'capital', u'management', u'hcm', u'practice', u'group', u'kronos', u'incorporated', u'role', u'delponte', u'responsible', u'strategic', u'development', u'go', u'market', u'strategy', u'market', u'read'], [u'al', u'capone', u'theory', u'show', u'sexual', u'harassment', u'hurt', u'bottom', u'line', u'recode', u'reported', u'yesterday', u'vinod', u'khosla', u'billionaire', u'founder', u'khosla', u'venture', u'say', u'speaking', u'engagement', u'sexual', u'harassment', u'world', u'venture', u'capital', u'know', u'discrimination', u'khosla', u'went', u'say', u'thought', u'rarer', u'business', u'reality', u'perceived', u'reality', u'comment', u'came', u'several', u'week', u'stretch', u'shown', u'real', u'discrimination', u'related', u'uber', u'fire', u'20', u'employee', u'harassmentin', u'june', u'following', u'six', u'allegation', u'sexual', u'harassment', u'vc', u'justin', u'caldbeck', u'released', u'statement', u'resigned', u'fund', u'co', u'founded', u'binary', u'capital', u'shut', u'completely', u'shortly', u'thereafter', u'june', u'30', u'new', u'york', u'time', u'published', u'article', u'titled', u'woman', u'tech', u'speak', u'frankly', u'culture', u'harassment', u'writer', u'katie', u'brenner', u'spoke', u'female', u'founder', u'subjected', u'unwanted', u'advance', u'named', u'number', u'high', u'profile', u'vcs', u'including', u'chris', u'sacca', u'500', u'startup', u'co', u'founder', u'dave', u'mcclure', u'mcclure', u'resigned', u'role', u'500', u'startup', u'female', u'co', u'founder', u'christine', u'tsai', u'took', u'mcclure', u'sacca', u'took', u'medium', u'attempt', u'behavior', u'though', u'contacted', u'named', u'paper', u'record', u'related', u'blind', u'workplace', u'harassment', u'5', u'tough', u'question', u'askin', u'post', u'creep', u'sorry', u'mcclure', u'wrote', u'confronted', u'happened', u'first', u'defensive', u'wrong', u'hanging', u'people', u'upset', u'tried', u'present', u'crappy', u'behavior', u'best', u'possible', u'light', u'much', u'empathy', u'people', u'hurt', u'offended', u'rather', u'face', u'shallow', u'motivation', u'rationalized', u'action', u'came', u'reason', u'find', u'blame', u'others', u'rather', u'solely', u'sacca', u'post', u'titled', u'work', u'wrote', u'particularly', u'reflecting', u'upon', u'early', u'year', u'silicon', u'valley', u'doubt', u'said', u'thing', u'made', u'woman', u'feel', u'awkward', u'unwelcome', u'insecure', u'discouraged', u'social', u'setting', u'guise', u'joking', u'collegial', u'flirting', u'good', u'time', u'undoubtedly', u'caused', u'woman', u'question', u'retreat', u'feel', u'alone', u'worry', u'authentic', u'self', u'stupidly', u'perpetuating', u'culture', u'rife', u'busting', u'chop', u'teasing', u'peer', u'pressure', u'go', u'drinking', u'made', u'woman', u'feel', u'self', u'conscious', u'anxious', u'fear', u'might', u'taken', u'seriously', u'response', u'series', u'high', u'profile', u'incident', u'valerie', u'aurora', u'principal', u'consultant', u'frame', u'shift', u'consulting', u'firm', u'help', u'company', u'promote', u'diversity', u'inclusion', u'leigh', u'honeywell', u'co', u'founder', u'female', u'driven', u'makerspaces', u'hacklabto', u'seattle', u'attic', u'community', u'workshop', u'shared', u'call', u'al', u'capone', u'theory', u'sexual', u'harassment', u'related', u'5', u'way', u'create', u'healthy', u'thriving', u'tech', u'company', u'culturethe', u'pair', u'explained', u'infamous', u'crime', u'bos', u'caught', u'relatively', u'prosaic', u'felony', u'paying', u'tax', u'rather', u'garish', u'one', u'committed', u'silicon', u'valley', u'culture', u'harassment', u'u', u'government', u'recognized', u'pattern', u'al', u'capone', u'case', u'smuggling', u'good', u'crime', u'often', u'paired', u'failing', u'pay', u'tax', u'proceeds', u'smuggling', u'noticed', u'similar', u'pattern', u'report', u'sexual', u'harassment', u'assault', u'often', u'people', u'engage', u'sexually', u'predatory', u'behavior', u'also', u'faked', u'expense', u'report', u'plagiarized', u'writing', u'stole', u'credit', u'people', u'work', u'behavior', u'action', u'someone', u'feel', u'entitled', u'people', u'property', u'regardless', u'whether', u'someone', u'else', u'idea', u'work', u'money', u'body', u'say', u'founder', u'responsibility', u'employee', u'build', u'organization', u'people', u'feel', u'safe', u'best', u'work', u'position', u'hire', u'partner', u'due', u'diligence', u'background', u'people', u'bring', u'orbit', u'cannot', u'ignore', u'brush', u'aside', u'kind', u'behavior', u'one', u'incident', u'way', u'thing', u'allow', u'harmful', u'actor', u'thrive', u'environment', u'around', u'suffers', u'quote', u'late', u'educator', u'author', u'activist', u'maya', u'angelou', u'someone', u'show', u'believe', u'first', u'time', u'nina', u'zipkinnina', u'zipkin', u'staff', u'writer', u'entrepreneur', u'com', u'frequently', u'cover', u'medium', u'tech', u'startup', u'culture', u'workplace', u'trend', u'read']]\n"
     ]
    }
   ],
   "source": [
    "# remove words that appear only once\n",
    "from collections import defaultdict\n",
    "frequency = defaultdict(int)\n",
    "for text in full_content:\n",
    "    for token in text:\n",
    "        frequency[token] += 1\n",
    "\n",
    "# full_content = [[token for token in text if frequency[token] > 1] for text in full_content]\n",
    "print full_content[:2]"
   ]
  },
  {
   "cell_type": "code",
   "execution_count": 440,
   "metadata": {},
   "outputs": [
    {
     "name": "stdout",
     "output_type": "stream",
     "text": [
      "layoff 43\n"
     ]
    }
   ],
   "source": [
    "for i in frequency.keys():\n",
    "    if 'layoff' in i:\n",
    "        print i, frequency[i]"
   ]
  },
  {
   "cell_type": "code",
   "execution_count": 441,
   "metadata": {},
   "outputs": [
    {
     "name": "stderr",
     "output_type": "stream",
     "text": [
      "2017-07-28 11:18:41,926 : INFO : adding document #0 to Dictionary(0 unique tokens: [])\n",
      "2017-07-28 11:18:42,213 : INFO : built Dictionary(18469 unique tokens: [u'aided', u'himmelryan', u'opinionsdr', u'fishermargie', u'candidates6']...) from 826 documents (total 305244 corpus positions)\n",
      "2017-07-28 11:18:42,213 : INFO : saving Dictionary object under model/contents.dict, separately None\n",
      "2017-07-28 11:18:42,254 : INFO : saved model/contents.dict\n"
     ]
    },
    {
     "name": "stdout",
     "output_type": "stream",
     "text": [
      "Dictionary(18469 unique tokens: [u'aided', u'himmelryan', u'opinionsdr', u'fishermargie', u'candidates6']...)\n"
     ]
    }
   ],
   "source": [
    "dictionary = gensim.corpora.Dictionary(full_content)\n",
    "dictionary.save('model/contents.dict')\n",
    "print dictionary"
   ]
  },
  {
   "cell_type": "code",
   "execution_count": 442,
   "metadata": {},
   "outputs": [
    {
     "name": "stderr",
     "output_type": "stream",
     "text": [
      "2017-07-28 11:18:44,603 : INFO : storing corpus in Matrix Market format to model/contents.mm\n",
      "2017-07-28 11:18:44,605 : INFO : saving sparse matrix to model/contents.mm\n",
      "2017-07-28 11:18:44,605 : INFO : PROGRESS: saving document #0\n",
      "2017-07-28 11:18:45,192 : INFO : saved 826x18469 matrix, density=1.293% (197310/15255394)\n",
      "2017-07-28 11:18:45,193 : INFO : saving MmCorpus index to model/contents.mm.index\n"
     ]
    }
   ],
   "source": [
    "corpus = [dictionary.doc2bow(text) for text in full_content]\n",
    "gensim.corpora.MmCorpus.serialize('model/contents.mm', corpus)"
   ]
  },
  {
   "cell_type": "markdown",
   "metadata": {},
   "source": [
    "# LDA"
   ]
  },
  {
   "cell_type": "code",
   "execution_count": 443,
   "metadata": {
    "collapsed": true
   },
   "outputs": [],
   "source": [
    "# Config \n",
    "NUM_TOPICS = 10\n",
    "NUM_TERMS = 100"
   ]
  },
  {
   "cell_type": "code",
   "execution_count": 444,
   "metadata": {},
   "outputs": [
    {
     "name": "stderr",
     "output_type": "stream",
     "text": [
      "2017-07-28 11:18:53,041 : INFO : using symmetric alpha at 0.1\n",
      "2017-07-28 11:18:53,041 : INFO : using symmetric eta at 5.41447831501e-05\n",
      "2017-07-28 11:18:53,045 : INFO : using serial LDA version on this node\n",
      "2017-07-28 11:18:54,816 : INFO : running online LDA training, 10 topics, 1 passes over the supplied corpus of 826 documents, updating model once every 826 documents, evaluating perplexity every 826 documents, iterating 50x with a convergence threshold of 0.001000\n",
      "2017-07-28 11:18:54,818 : WARNING : too few updates, training might not converge; consider increasing the number of passes or iterations to improve accuracy\n",
      "2017-07-28 11:19:03,794 : INFO : -11.083 per-word bound, 2169.0 perplexity estimate based on a held-out corpus of 826 documents with 305244 words\n",
      "2017-07-28 11:19:03,795 : INFO : PROGRESS: pass 0, at document #826/826\n",
      "2017-07-28 11:19:05,591 : INFO : topic #4 (0.100): 0.015*\"employee\" + 0.010*\"company\" + 0.008*\"business\" + 0.007*\"time\" + 0.006*\"people\" + 0.005*\"team\" + 0.005*\"work\" + 0.005*\"job\" + 0.004*\"say\" + 0.004*\"make\"\n",
      "2017-07-28 11:19:05,592 : INFO : topic #7 (0.100): 0.013*\"employee\" + 0.012*\"company\" + 0.008*\"business\" + 0.006*\"make\" + 0.006*\"job\" + 0.006*\"people\" + 0.005*\"work\" + 0.005*\"need\" + 0.004*\"team\" + 0.004*\"say\"\n",
      "2017-07-28 11:19:05,593 : INFO : topic #5 (0.100): 0.014*\"employee\" + 0.012*\"company\" + 0.009*\"business\" + 0.007*\"people\" + 0.006*\"work\" + 0.005*\"employer\" + 0.005*\"job\" + 0.005*\"new\" + 0.005*\"related\" + 0.004*\"time\"\n",
      "2017-07-28 11:19:05,594 : INFO : topic #8 (0.100): 0.021*\"employee\" + 0.009*\"company\" + 0.008*\"work\" + 0.008*\"business\" + 0.006*\"time\" + 0.006*\"hr\" + 0.006*\"job\" + 0.006*\"related\" + 0.005*\"need\" + 0.005*\"say\"\n",
      "2017-07-28 11:19:05,595 : INFO : topic #1 (0.100): 0.014*\"employee\" + 0.011*\"company\" + 0.008*\"business\" + 0.007*\"time\" + 0.006*\"job\" + 0.005*\"need\" + 0.005*\"work\" + 0.005*\"people\" + 0.005*\"new\" + 0.004*\"team\"\n",
      "2017-07-28 11:19:05,595 : INFO : topic diff=3.845323, rho=1.000000\n",
      "2017-07-28 11:19:05,599 : INFO : saving LdaState object under model/lda.save.state, separately None\n",
      "2017-07-28 11:19:05,601 : INFO : saved model/lda.save.state\n",
      "2017-07-28 11:19:05,643 : INFO : saving LdaModel object under model/lda.save, separately ['expElogbeta', 'sstats']\n",
      "2017-07-28 11:19:05,644 : INFO : not storing attribute id2word\n",
      "2017-07-28 11:19:05,644 : INFO : storing np array 'expElogbeta' to model/lda.save.expElogbeta.npy\n",
      "2017-07-28 11:19:05,646 : INFO : not storing attribute state\n",
      "2017-07-28 11:19:05,646 : INFO : not storing attribute dispatcher\n",
      "2017-07-28 11:19:05,647 : INFO : saved model/lda.save\n"
     ]
    }
   ],
   "source": [
    "lda = gensim.models.ldamodel.LdaModel(corpus=corpus, id2word=dictionary, \n",
    "                                      num_topics=NUM_TOPICS, update_every=1, \n",
    "                                      chunksize=10000, passes=1)\n",
    "\n",
    "lda.save('model/lda.save')"
   ]
  },
  {
   "cell_type": "code",
   "execution_count": 445,
   "metadata": {
    "scrolled": true
   },
   "outputs": [
    {
     "name": "stderr",
     "output_type": "stream",
     "text": [
      "2017-07-28 11:19:05,652 : INFO : topic #8 (0.100): 0.021*\"employee\" + 0.009*\"company\" + 0.008*\"work\" + 0.008*\"business\" + 0.006*\"time\" + 0.006*\"hr\" + 0.006*\"job\" + 0.006*\"related\" + 0.005*\"need\" + 0.005*\"say\" + 0.005*\"team\" + 0.005*\"one\" + 0.004*\"new\" + 0.004*\"make\" + 0.004*\"percent\" + 0.004*\"get\" + 0.003*\"may\" + 0.003*\"process\" + 0.003*\"performance\" + 0.003*\"hire\" + 0.003*\"employer\" + 0.003*\"manager\" + 0.003*\"help\" + 0.003*\"would\" + 0.003*\"people\" + 0.003*\"hiring\" + 0.003*\"best\" + 0.003*\"way\" + 0.003*\"take\" + 0.003*\"worker\" + 0.003*\"organization\" + 0.003*\"leader\" + 0.003*\"want\" + 0.002*\"small\" + 0.002*\"like\" + 0.002*\"year\" + 0.002*\"first\" + 0.002*\"read\" + 0.002*\"also\" + 0.002*\"human\" + 0.002*\"experience\" + 0.002*\"know\" + 0.002*\"candidate\" + 0.002*\"many\" + 0.002*\"great\" + 0.002*\"resource\" + 0.002*\"plan\" + 0.002*\"find\" + 0.002*\"use\" + 0.002*\"cost\" + 0.002*\"person\" + 0.002*\"pay\" + 0.002*\"right\" + 0.002*\"skill\" + 0.002*\"management\" + 0.002*\"good\" + 0.002*\"important\" + 0.002*\"data\" + 0.002*\"might\" + 0.002*\"someone\" + 0.002*\"talent\" + 0.002*\"day\" + 0.002*\"well\" + 0.002*\"even\" + 0.002*\"goal\" + 0.002*\"review\" + 0.002*\"executive\" + 0.002*\"thing\" + 0.002*\"professional\" + 0.002*\"question\" + 0.002*\"come\" + 0.002*\"entrepreneur\" + 0.002*\"benefit\" + 0.002*\"ceo\" + 0.002*\"feel\" + 0.002*\"information\" + 0.002*\"service\" + 0.002*\"keep\" + 0.002*\"give\" + 0.002*\"issue\" + 0.002*\"sale\" + 0.001*\"better\" + 0.001*\"5\" + 0.001*\"salary\" + 0.001*\"interview\" + 0.001*\"office\" + 0.001*\"culture\" + 0.001*\"opportunity\" + 0.001*\"sure\" + 0.001*\"could\" + 0.001*\"top\" + 0.001*\"1\" + 0.001*\"set\" + 0.001*\"go\" + 0.001*\"see\" + 0.001*\"career\" + 0.001*\"success\" + 0.001*\"customer\" + 0.001*\"position\" + 0.001*\"often\"\n",
      "2017-07-28 11:19:05,653 : INFO : topic #3 (0.100): 0.014*\"employee\" + 0.009*\"business\" + 0.007*\"need\" + 0.007*\"company\" + 0.007*\"say\" + 0.006*\"new\" + 0.005*\"make\" + 0.005*\"people\" + 0.005*\"work\" + 0.005*\"job\" + 0.004*\"one\" + 0.004*\"related\" + 0.004*\"time\" + 0.004*\"team\" + 0.004*\"get\" + 0.004*\"help\" + 0.004*\"candidate\" + 0.003*\"want\" + 0.003*\"way\" + 0.003*\"know\" + 0.003*\"entrepreneur\" + 0.003*\"take\" + 0.003*\"hire\" + 0.003*\"also\" + 0.003*\"year\" + 0.002*\"would\" + 0.002*\"percent\" + 0.002*\"first\" + 0.002*\"like\" + 0.002*\"organization\" + 0.002*\"right\" + 0.002*\"well\" + 0.002*\"may\" + 0.002*\"best\" + 0.002*\"customer\" + 0.002*\"thing\" + 0.002*\"goal\" + 0.002*\"every\" + 0.002*\"office\" + 0.002*\"read\" + 0.002*\"important\" + 0.002*\"hiring\" + 0.002*\"skill\" + 0.002*\"process\" + 0.002*\"good\" + 0.002*\"person\" + 0.002*\"day\" + 0.002*\"problem\" + 0.002*\"manager\" + 0.002*\"working\" + 0.002*\"hr\" + 0.002*\"use\" + 0.002*\"even\" + 0.002*\"founder\" + 0.002*\"experience\" + 0.002*\"worker\" + 0.002*\"talent\" + 0.002*\"top\" + 0.002*\"issue\" + 0.002*\"someone\" + 0.002*\"performance\" + 0.002*\"employer\" + 0.002*\"leader\" + 0.002*\"start\" + 0.002*\"question\" + 0.002*\"money\" + 0.002*\"u\" + 0.002*\"startup\" + 0.002*\"culture\" + 0.002*\"interview\" + 0.002*\"give\" + 0.001*\"many\" + 0.001*\"leave\" + 0.001*\"great\" + 0.001*\"management\" + 0.001*\"report\" + 0.001*\"find\" + 0.001*\"meeting\" + 0.001*\"ask\" + 0.001*\"might\" + 0.001*\"technology\" + 0.001*\"much\" + 0.001*\"based\" + 0.001*\"feel\" + 0.001*\"cost\" + 0.001*\"service\" + 0.001*\"result\" + 0.001*\"come\" + 0.001*\"go\" + 0.001*\"ceo\" + 0.001*\"going\" + 0.001*\"better\" + 0.001*\"positive\" + 0.001*\"co\" + 0.001*\"without\" + 0.001*\"com\" + 0.001*\"1\" + 0.001*\"social\" + 0.001*\"idea\" + 0.001*\"keep\"\n"
     ]
    },
    {
     "data": {
      "text/plain": [
       "[(8,\n",
       "  u'0.021*\"employee\" + 0.009*\"company\" + 0.008*\"work\" + 0.008*\"business\" + 0.006*\"time\" + 0.006*\"hr\" + 0.006*\"job\" + 0.006*\"related\" + 0.005*\"need\" + 0.005*\"say\" + 0.005*\"team\" + 0.005*\"one\" + 0.004*\"new\" + 0.004*\"make\" + 0.004*\"percent\" + 0.004*\"get\" + 0.003*\"may\" + 0.003*\"process\" + 0.003*\"performance\" + 0.003*\"hire\" + 0.003*\"employer\" + 0.003*\"manager\" + 0.003*\"help\" + 0.003*\"would\" + 0.003*\"people\" + 0.003*\"hiring\" + 0.003*\"best\" + 0.003*\"way\" + 0.003*\"take\" + 0.003*\"worker\" + 0.003*\"organization\" + 0.003*\"leader\" + 0.003*\"want\" + 0.002*\"small\" + 0.002*\"like\" + 0.002*\"year\" + 0.002*\"first\" + 0.002*\"read\" + 0.002*\"also\" + 0.002*\"human\" + 0.002*\"experience\" + 0.002*\"know\" + 0.002*\"candidate\" + 0.002*\"many\" + 0.002*\"great\" + 0.002*\"resource\" + 0.002*\"plan\" + 0.002*\"find\" + 0.002*\"use\" + 0.002*\"cost\" + 0.002*\"person\" + 0.002*\"pay\" + 0.002*\"right\" + 0.002*\"skill\" + 0.002*\"management\" + 0.002*\"good\" + 0.002*\"important\" + 0.002*\"data\" + 0.002*\"might\" + 0.002*\"someone\" + 0.002*\"talent\" + 0.002*\"day\" + 0.002*\"well\" + 0.002*\"even\" + 0.002*\"goal\" + 0.002*\"review\" + 0.002*\"executive\" + 0.002*\"thing\" + 0.002*\"professional\" + 0.002*\"question\" + 0.002*\"come\" + 0.002*\"entrepreneur\" + 0.002*\"benefit\" + 0.002*\"ceo\" + 0.002*\"feel\" + 0.002*\"information\" + 0.002*\"service\" + 0.002*\"keep\" + 0.002*\"give\" + 0.002*\"issue\" + 0.002*\"sale\" + 0.001*\"better\" + 0.001*\"5\" + 0.001*\"salary\" + 0.001*\"interview\" + 0.001*\"office\" + 0.001*\"culture\" + 0.001*\"opportunity\" + 0.001*\"sure\" + 0.001*\"could\" + 0.001*\"top\" + 0.001*\"1\" + 0.001*\"set\" + 0.001*\"go\" + 0.001*\"see\" + 0.001*\"career\" + 0.001*\"success\" + 0.001*\"customer\" + 0.001*\"position\" + 0.001*\"often\"'),\n",
       " (3,\n",
       "  u'0.014*\"employee\" + 0.009*\"business\" + 0.007*\"need\" + 0.007*\"company\" + 0.007*\"say\" + 0.006*\"new\" + 0.005*\"make\" + 0.005*\"people\" + 0.005*\"work\" + 0.005*\"job\" + 0.004*\"one\" + 0.004*\"related\" + 0.004*\"time\" + 0.004*\"team\" + 0.004*\"get\" + 0.004*\"help\" + 0.004*\"candidate\" + 0.003*\"want\" + 0.003*\"way\" + 0.003*\"know\" + 0.003*\"entrepreneur\" + 0.003*\"take\" + 0.003*\"hire\" + 0.003*\"also\" + 0.003*\"year\" + 0.002*\"would\" + 0.002*\"percent\" + 0.002*\"first\" + 0.002*\"like\" + 0.002*\"organization\" + 0.002*\"right\" + 0.002*\"well\" + 0.002*\"may\" + 0.002*\"best\" + 0.002*\"customer\" + 0.002*\"thing\" + 0.002*\"goal\" + 0.002*\"every\" + 0.002*\"office\" + 0.002*\"read\" + 0.002*\"important\" + 0.002*\"hiring\" + 0.002*\"skill\" + 0.002*\"process\" + 0.002*\"good\" + 0.002*\"person\" + 0.002*\"day\" + 0.002*\"problem\" + 0.002*\"manager\" + 0.002*\"working\" + 0.002*\"hr\" + 0.002*\"use\" + 0.002*\"even\" + 0.002*\"founder\" + 0.002*\"experience\" + 0.002*\"worker\" + 0.002*\"talent\" + 0.002*\"top\" + 0.002*\"issue\" + 0.002*\"someone\" + 0.002*\"performance\" + 0.002*\"employer\" + 0.002*\"leader\" + 0.002*\"start\" + 0.002*\"question\" + 0.002*\"money\" + 0.002*\"u\" + 0.002*\"startup\" + 0.002*\"culture\" + 0.002*\"interview\" + 0.002*\"give\" + 0.001*\"many\" + 0.001*\"leave\" + 0.001*\"great\" + 0.001*\"management\" + 0.001*\"report\" + 0.001*\"find\" + 0.001*\"meeting\" + 0.001*\"ask\" + 0.001*\"might\" + 0.001*\"technology\" + 0.001*\"much\" + 0.001*\"based\" + 0.001*\"feel\" + 0.001*\"cost\" + 0.001*\"service\" + 0.001*\"result\" + 0.001*\"come\" + 0.001*\"go\" + 0.001*\"ceo\" + 0.001*\"going\" + 0.001*\"better\" + 0.001*\"positive\" + 0.001*\"co\" + 0.001*\"without\" + 0.001*\"com\" + 0.001*\"1\" + 0.001*\"social\" + 0.001*\"idea\" + 0.001*\"keep\"')]"
      ]
     },
     "execution_count": 445,
     "metadata": {},
     "output_type": "execute_result"
    }
   ],
   "source": [
    "lda.print_topics(2, 100)"
   ]
  },
  {
   "cell_type": "code",
   "execution_count": 446,
   "metadata": {},
   "outputs": [
    {
     "name": "stdout",
     "output_type": "stream",
     "text": [
      "[[u'employee', u'company', u'business', u'time', u'work', u'people', u'need', u'say', u'job', u'help', u'one', u'way', u'related', u'new', u'year', u'hr', u'may', u'team', u'employer', u'entrepreneur', u'candidate', u'make', u'hire', u'also', u'hiring', u'read', u'get', u'percent', u'take', u'process', u'thing', u'worker', u'right', u'even', u'plan', u'resource', u'small', u'performance', u'know', u'leader', u'best', u'many', u'like', u'talent', u'go', u'question', u'based', u'experience', u'pay', u'person', u'benefit', u'want', u'give', u'important', u'well', u'often', u'organization', u'others', u'goal', u'someone', u'human', u'culture', u'ceo', u'u', u'interview', u'service', u'individual', u'manager', u'owner', u'find', u'leave', u'skill', u'customer', u'would', u'good', u'use', u'3', u'keep', u'day', u'issue', u'first', u'could', u'workplace', u'management', u'start', u'big', u'ask', u'better', u'offer', u'think', u'provide', u'information', u'review', u'1', u'every', u'place', u'success', u'employment', u'com', u'come'], [u'employee', u'company', u'business', u'time', u'job', u'need', u'work', u'people', u'new', u'team', u'employer', u'related', u'make', u'want', u'hr', u'one', u'hire', u'way', u'also', u'year', u'read', u'like', u'health', u'small', u'candidate', u'process', u'may', u'day', u'help', u'management', u'question', u'good', u'get', u'many', u'manager', u'percent', u'service', u'use', u'ceo', u'know', u'entrepreneur', u'right', u'leave', u'talent', u'program', u'state', u'say', u'best', u'law', u'performance', u'leader', u'information', u'experience', u'benefit', u'social', u'executive', u'would', u'even', u'office', u'well', u'offer', u'might', u'cost', u'data', u'hiring', u'first', u'much', u'employment', u'organization', u'goal', u'pay', u'startup', u'worker', u'come', u'1', u'important', u'long', u'human', u'find', u'person', u'go', u'issue', u'resource', u'based', u'ask', u'insurance', u'take', u'better', u'keep', u'must', u'value', u'part', u'marketing', u'culture', u'customer', u'u', u'thing', u'look', u'policy', u'problem'], [u'employee', u'company', u'business', u'job', u'work', u'time', u'one', u'people', u'say', u'new', u'need', u'make', u'also', u'may', u'percent', u'related', u'way', u'candidate', u'get', u'hiring', u'know', u'like', u'plan', u'employer', u'want', u'health', u'team', u'worker', u'benefit', u'year', u'take', u'resource', u'small', u'organization', u'leave', u'best', u'person', u'help', u'hr', u'talent', u'many', u'experience', u'hire', u'find', u'entrepreneur', u'could', u'based', u'service', u'thing', u'good', u'human', u'would', u'manager', u'read', u'management', u'skill', u'even', u'1', u'two', u'question', u'individual', u'employment', u'insurance', u'technology', u'sale', u'well', u'professional', u'goal', u'use', u'first', u'day', u'culture', u'great', u'working', u'pay', u'u', u'process', u'important', u'ask', u'month', u'said', u'every', u'go', u'provide', u'owner', u'give', u'set', u'leader', u'data', u'issue', u'offer', u'social', u'top', u'going', u'keep', u'strategy', u'better', u'others', u'part', u'5']]\n"
     ]
    }
   ],
   "source": [
    "# select top 100 words for each of the 10 LDA topics\n",
    "TOP_KEYWORDS = [[word for word, _ in lda.show_topic(topicno, topn=NUM_TERMS)]\n",
    "             for topicno in range(lda.num_topics)]\n",
    "print(TOP_KEYWORDS[:3])"
   ]
  },
  {
   "cell_type": "code",
   "execution_count": 447,
   "metadata": {},
   "outputs": [
    {
     "name": "stdout",
     "output_type": "stream",
     "text": [
      "Saved to  exported/entrepreneur.csv\n"
     ]
    }
   ],
   "source": [
    "# Export \n",
    "n = 0\n",
    "combined = []\n",
    "for _ in TOP_KEYWORDS:\n",
    "    combined += _\n",
    "\n",
    "combined_df = pd.DataFrame(combined)\n",
    "combined_df = pd.DataFrame(combined_df[0].value_counts().sort_values()).reset_index()\n",
    "combined_df.columns = ['keyword', 'c']\n",
    "\n",
    "save_to = \"exported/%s.csv\" % KEYWORD_TYPE\n",
    "combined_df.to_csv(save_to, index=False)\n",
    "print 'Saved to ', save_to"
   ]
  },
  {
   "cell_type": "code",
   "execution_count": 312,
   "metadata": {},
   "outputs": [
    {
     "ename": "SyntaxError",
     "evalue": "'break' outside loop (<ipython-input-312-b20fcc2397e7>, line 1)",
     "output_type": "error",
     "traceback": [
      "\u001b[0;36m  File \u001b[0;32m\"<ipython-input-312-b20fcc2397e7>\"\u001b[0;36m, line \u001b[0;32m1\u001b[0m\n\u001b[0;31m    break\u001b[0m\n\u001b[0;31mSyntaxError\u001b[0m\u001b[0;31m:\u001b[0m 'break' outside loop\n"
     ]
    }
   ],
   "source": [
    "break"
   ]
  },
  {
   "cell_type": "markdown",
   "metadata": {},
   "source": [
    "# TF-IDF"
   ]
  },
  {
   "cell_type": "code",
   "execution_count": null,
   "metadata": {
    "collapsed": true
   },
   "outputs": [],
   "source": [
    "NUM_CLUSTERS = 10\n",
    "NUM_TERMS = 50"
   ]
  },
  {
   "cell_type": "code",
   "execution_count": null,
   "metadata": {},
   "outputs": [],
   "source": [
    "tfidf = gensim.models.tfidfmodel.TfidfModel(corpus, id2word=dictionary)\n",
    "corpus_tfidf = tfidf[corpus]\n",
    "tfidf.save(\"model/tfidf.save\")"
   ]
  },
  {
   "cell_type": "code",
   "execution_count": null,
   "metadata": {
    "collapsed": true
   },
   "outputs": [],
   "source": [
    "corpus_tfidf_sorted = []\n",
    "TOP_KEYWORDS = []\n",
    "for c in corpus_tfidf:\n",
    "    top_keywords = sorted(c, key=lambda t: t[1], reverse=True)\n",
    "    top_keywords = top_keywords[:NUM_TERMS]\n",
    "    corpus_tfidf_sorted.append(top_keywords)\n",
    "    TOP_KEYWORDS.append([dictionary[id] for id, _ in top_keywords])"
   ]
  },
  {
   "cell_type": "code",
   "execution_count": null,
   "metadata": {},
   "outputs": [],
   "source": [
    "print TOP_KEYWORDS[:2]"
   ]
  },
  {
   "cell_type": "code",
   "execution_count": null,
   "metadata": {},
   "outputs": [],
   "source": [
    "# Combine top keywords\n",
    "import itertools\n",
    "TOP_KEYWORDS_MERGED = list(itertools.chain(*TOP_KEYWORDS))\n",
    "print \"Total keywords: \", len(TOP_KEYWORDS_MERGED)\n",
    "TOP_KEYWORDS_MERGED = list(set(TOP_KEYWORDS_MERGED))\n",
    "print \"Total keywords after combined: \", len(TOP_KEYWORDS_MERGED)\n",
    "print TOP_KEYWORDS_MERGED[:10]"
   ]
  },
  {
   "cell_type": "code",
   "execution_count": null,
   "metadata": {},
   "outputs": [],
   "source": [
    "# Export \n",
    "save_to = \"exported/tfidf/tfidf_keywords.csv\"\n",
    "pd.DataFrame(TOP_KEYWORDS_MERGED, columns=['keyword']).to_csv(save_to, index=False, encoding='utf-8')\n",
    "print 'Saved to ', save_to"
   ]
  },
  {
   "cell_type": "markdown",
   "metadata": {},
   "source": [
    "# TF-IDF with K-means"
   ]
  },
  {
   "cell_type": "code",
   "execution_count": null,
   "metadata": {
    "collapsed": true
   },
   "outputs": [],
   "source": [
    "# NUM_CLUSTERS = 10\n",
    "# NUM_TERMS = 100"
   ]
  },
  {
   "cell_type": "code",
   "execution_count": null,
   "metadata": {
    "collapsed": true
   },
   "outputs": [],
   "source": [
    "# from sklearn.cluster import KMeans\n",
    "# from scipy.sparse import csr_matrix\n",
    "# import numpy as np"
   ]
  },
  {
   "cell_type": "code",
   "execution_count": null,
   "metadata": {},
   "outputs": [],
   "source": [
    "# _corpus_tfidf = gensim.matutils.corpus2csc(corpus_tfidf).transpose()\n",
    "# print _corpus_tfidf[:5]"
   ]
  },
  {
   "cell_type": "code",
   "execution_count": null,
   "metadata": {},
   "outputs": [],
   "source": [
    "# kmeans = KMeans(n_clusters=NUM_CLUSTERS)\n",
    "# X = kmeans.fit_transform(_corpus_tfidf)"
   ]
  },
  {
   "cell_type": "code",
   "execution_count": null,
   "metadata": {},
   "outputs": [],
   "source": [
    "# X.shape"
   ]
  },
  {
   "cell_type": "code",
   "execution_count": null,
   "metadata": {},
   "outputs": [],
   "source": [
    "# dir(kmeans)\n",
    "# kmeans.n_clusters"
   ]
  },
  {
   "cell_type": "code",
   "execution_count": null,
   "metadata": {
    "collapsed": true
   },
   "outputs": [],
   "source": []
  },
  {
   "cell_type": "code",
   "execution_count": null,
   "metadata": {
    "collapsed": true
   },
   "outputs": [],
   "source": []
  },
  {
   "cell_type": "code",
   "execution_count": null,
   "metadata": {
    "collapsed": true
   },
   "outputs": [],
   "source": []
  }
 ],
 "metadata": {
  "kernelspec": {
   "display_name": "Python 2",
   "language": "python",
   "name": "python2"
  },
  "language_info": {
   "codemirror_mode": {
    "name": "ipython",
    "version": 2
   },
   "file_extension": ".py",
   "mimetype": "text/x-python",
   "name": "python",
   "nbconvert_exporter": "python",
   "pygments_lexer": "ipython2",
   "version": "2.7.12"
  }
 },
 "nbformat": 4,
 "nbformat_minor": 2
}
