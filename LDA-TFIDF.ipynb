{
 "cells": [
  {
   "cell_type": "code",
   "execution_count": 23,
   "metadata": {
    "collapsed": true
   },
   "outputs": [],
   "source": [
    "import gensim\n",
    "import pandas as pd\n",
    "import logging\n",
    "from nltk.tokenize import RegexpTokenizer\n",
    "from nltk.corpus import stopwords\n",
    "\n",
    "tokenizer = RegexpTokenizer(r'\\w+')\n",
    "STOPWORDS = set(stopwords.words('english'))\n",
    "STOPWORDS.update(['.', ',', '\"', \"'\", '?', '!', ':', ';', '(', ')', '[', ']', '{', '}'])\n",
    "\n",
    "logging.basicConfig(format='%(asctime)s : %(levelname)s : %(message)s', level=logging.INFO)"
   ]
  },
  {
   "cell_type": "code",
   "execution_count": 24,
   "metadata": {},
   "outputs": [
    {
     "data": {
      "text/html": [
       "<div>\n",
       "<style>\n",
       "    .dataframe thead tr:only-child th {\n",
       "        text-align: right;\n",
       "    }\n",
       "\n",
       "    .dataframe thead th {\n",
       "        text-align: left;\n",
       "    }\n",
       "\n",
       "    .dataframe tbody tr th {\n",
       "        vertical-align: top;\n",
       "    }\n",
       "</style>\n",
       "<table border=\"1\" class=\"dataframe\">\n",
       "  <thead>\n",
       "    <tr style=\"text-align: right;\">\n",
       "      <th></th>\n",
       "      <th>url</th>\n",
       "      <th>title</th>\n",
       "      <th>content</th>\n",
       "      <th>tag</th>\n",
       "    </tr>\n",
       "  </thead>\n",
       "  <tbody>\n",
       "    <tr>\n",
       "      <th>0</th>\n",
       "      <td>https://www.reuters.com/article/clariant-resul...</td>\n",
       "      <td>Clariant keeps full year guidance after meetin...</td>\n",
       "      <td>ZURICH, July 27 Swiss chemicals group Clariant...</td>\n",
       "      <td>markets</td>\n",
       "    </tr>\n",
       "    <tr>\n",
       "      <th>1</th>\n",
       "      <td>https://www.reuters.com/article/clariant-resul...</td>\n",
       "      <td>Clariant keeps full year guidance after meetin...</td>\n",
       "      <td>ZURICH, July 27 Swiss chemicals group Clariant...</td>\n",
       "      <td>markets</td>\n",
       "    </tr>\n",
       "    <tr>\n",
       "      <th>2</th>\n",
       "      <td>https://www.reuters.com/article/clariant-resul...</td>\n",
       "      <td>Clariant keeps full year guidance after meetin...</td>\n",
       "      <td>ZURICH, July 27 Swiss chemicals group Clariant...</td>\n",
       "      <td>markets</td>\n",
       "    </tr>\n",
       "    <tr>\n",
       "      <th>3</th>\n",
       "      <td>https://www.reuters.com/article/clariant-resul...</td>\n",
       "      <td>Clariant keeps full year guidance after meetin...</td>\n",
       "      <td>ZURICH, July 27 Swiss chemicals group Clariant...</td>\n",
       "      <td>markets</td>\n",
       "    </tr>\n",
       "    <tr>\n",
       "      <th>4</th>\n",
       "      <td>https://www.reuters.com/article/clariant-resul...</td>\n",
       "      <td>Clariant keeps full year guidance after meetin...</td>\n",
       "      <td>ZURICH, July 27 Swiss chemicals group Clariant...</td>\n",
       "      <td>markets</td>\n",
       "    </tr>\n",
       "  </tbody>\n",
       "</table>\n",
       "</div>"
      ],
      "text/plain": [
       "                                                 url  \\\n",
       "0  https://www.reuters.com/article/clariant-resul...   \n",
       "1  https://www.reuters.com/article/clariant-resul...   \n",
       "2  https://www.reuters.com/article/clariant-resul...   \n",
       "3  https://www.reuters.com/article/clariant-resul...   \n",
       "4  https://www.reuters.com/article/clariant-resul...   \n",
       "\n",
       "                                               title  \\\n",
       "0  Clariant keeps full year guidance after meetin...   \n",
       "1  Clariant keeps full year guidance after meetin...   \n",
       "2  Clariant keeps full year guidance after meetin...   \n",
       "3  Clariant keeps full year guidance after meetin...   \n",
       "4  Clariant keeps full year guidance after meetin...   \n",
       "\n",
       "                                             content      tag  \n",
       "0  ZURICH, July 27 Swiss chemicals group Clariant...  markets  \n",
       "1  ZURICH, July 27 Swiss chemicals group Clariant...  markets  \n",
       "2  ZURICH, July 27 Swiss chemicals group Clariant...  markets  \n",
       "3  ZURICH, July 27 Swiss chemicals group Clariant...  markets  \n",
       "4  ZURICH, July 27 Swiss chemicals group Clariant...  markets  "
      ]
     },
     "execution_count": 24,
     "metadata": {},
     "output_type": "execute_result"
    }
   ],
   "source": [
    "data = pd.read_csv(\"data/sample.csv\")\n",
    "data.head()"
   ]
  },
  {
   "cell_type": "code",
   "execution_count": 25,
   "metadata": {},
   "outputs": [
    {
     "name": "stdout",
     "output_type": "stream",
     "text": [
      "[['clariant', 'keeps', 'full', 'year', 'guidance', 'meeting', 'forecasts', 'h1', 'zurich', 'july', '27', 'swiss', 'chemicals', 'group', 'clariant', 'carrying', '20', 'billion', 'merger', 'u', 'peer', 'huntsman', 'reported', 'first', 'half', 'operating', 'profit', 'line', 'expectations', 'thursday', 'confirmed', 'guidance', 'year'], ['clariant', 'keeps', 'full', 'year', 'guidance', 'meeting', 'forecasts', 'h1', 'zurich', 'july', '27', 'swiss', 'chemicals', 'group', 'clariant', 'carrying', '20', 'billion', 'merger', 'u', 'peer', 'huntsman', 'reported', 'first', 'half', 'operating', 'profit', 'line', 'wi', 'guidance', 'year']]\n"
     ]
    }
   ],
   "source": [
    "# remove common words and tokenize\n",
    "data['full_content'] = data['title'] + ' ' + data['content']\n",
    "full_content = data['full_content'].tolist()\n",
    "full_content = [[z for z in tokenizer.tokenize(t.lower()) if z not in STOPWORDS] for t in full_content]\n",
    "print full_content[:2]"
   ]
  },
  {
   "cell_type": "code",
   "execution_count": 26,
   "metadata": {},
   "outputs": [
    {
     "name": "stdout",
     "output_type": "stream",
     "text": [
      "[['clariant', 'keeps', 'full', 'year', 'guidance', 'meeting', 'forecasts', 'h1', 'zurich', 'july', '27', 'swiss', 'chemicals', 'group', 'clariant', 'carrying', '20', 'billion', 'merger', 'u', 'peer', 'huntsman', 'reported', 'first', 'half', 'operating', 'profit', 'line', 'guidance', 'year'], ['clariant', 'keeps', 'full', 'year', 'guidance', 'meeting', 'forecasts', 'h1', 'zurich', 'july', '27', 'swiss', 'chemicals', 'group', 'clariant', 'carrying', '20', 'billion', 'merger', 'u', 'peer', 'huntsman', 'reported', 'first', 'half', 'operating', 'profit', 'line', 'wi', 'guidance', 'year']]\n"
     ]
    }
   ],
   "source": [
    "# remove words that appear only once\n",
    "from collections import defaultdict\n",
    "frequency = defaultdict(int)\n",
    "for text in full_content:\n",
    "    for token in text:\n",
    "        frequency[token] += 1\n",
    "\n",
    "full_content = [[token for token in text if frequency[token] > 1] for text in full_content]\n",
    "print full_content[:2]"
   ]
  },
  {
   "cell_type": "code",
   "execution_count": 27,
   "metadata": {},
   "outputs": [
    {
     "name": "stderr",
     "output_type": "stream",
     "text": [
      "2017-07-27 14:04:53,866 : INFO : adding document #0 to Dictionary(0 unique tokens: [])\n",
      "2017-07-27 14:04:53,882 : INFO : built Dictionary(28 unique tokens: [u'zurich', u'h1', u'year', u'line', u'27']...) from 282 documents (total 8712 corpus positions)\n",
      "2017-07-27 14:04:53,884 : INFO : saving Dictionary object under model/contents.dict, separately None\n",
      "2017-07-27 14:04:53,885 : INFO : saved model/contents.dict\n"
     ]
    },
    {
     "name": "stdout",
     "output_type": "stream",
     "text": [
      "Dictionary(28 unique tokens: [u'zurich', u'h1', u'year', u'line', u'27']...)\n"
     ]
    }
   ],
   "source": [
    "dictionary = gensim.corpora.Dictionary(full_content)\n",
    "dictionary.save('model/contents.dict')\n",
    "print dictionary"
   ]
  },
  {
   "cell_type": "code",
   "execution_count": 28,
   "metadata": {},
   "outputs": [
    {
     "name": "stderr",
     "output_type": "stream",
     "text": [
      "2017-07-27 14:04:53,899 : INFO : storing corpus in Matrix Market format to model/contents.mm\n",
      "2017-07-27 14:04:53,900 : INFO : saving sparse matrix to model/contents.mm\n",
      "2017-07-27 14:04:53,901 : INFO : PROGRESS: saving document #0\n",
      "2017-07-27 14:04:53,926 : INFO : saved 282x28 matrix, density=99.658% (7869/7896)\n",
      "2017-07-27 14:04:53,927 : INFO : saving MmCorpus index to model/contents.mm.index\n"
     ]
    }
   ],
   "source": [
    "corpus = [dictionary.doc2bow(text) for text in full_content]\n",
    "gensim.corpora.MmCorpus.serialize('model/contents.mm', corpus)"
   ]
  },
  {
   "cell_type": "markdown",
   "metadata": {},
   "source": [
    "# LDA"
   ]
  },
  {
   "cell_type": "code",
   "execution_count": 29,
   "metadata": {
    "collapsed": true
   },
   "outputs": [],
   "source": [
    "# Config \n",
    "NUM_TOPICS = 10\n",
    "NUM_TERMS = 100"
   ]
  },
  {
   "cell_type": "code",
   "execution_count": 30,
   "metadata": {},
   "outputs": [
    {
     "name": "stderr",
     "output_type": "stream",
     "text": [
      "2017-07-27 14:04:53,935 : INFO : using symmetric alpha at 0.1\n",
      "2017-07-27 14:04:53,936 : INFO : using symmetric eta at 0.0357142857143\n",
      "2017-07-27 14:04:53,936 : INFO : using serial LDA version on this node\n",
      "2017-07-27 14:04:53,940 : INFO : running online LDA training, 10 topics, 1 passes over the supplied corpus of 282 documents, updating model once every 282 documents, evaluating perplexity every 282 documents, iterating 50x with a convergence threshold of 0.001000\n",
      "2017-07-27 14:04:53,941 : WARNING : too few updates, training might not converge; consider increasing the number of passes or iterations to improve accuracy\n",
      "2017-07-27 14:04:54,650 : INFO : -4.113 per-word bound, 17.3 perplexity estimate based on a held-out corpus of 282 documents with 8712 words\n",
      "2017-07-27 14:04:54,650 : INFO : PROGRESS: pass 0, at document #282/282\n",
      "2017-07-27 14:04:55,105 : INFO : topic #8 (0.100): 0.038*\"clariant\" + 0.037*\"guidance\" + 0.036*\"year\" + 0.036*\"h1\" + 0.036*\"group\" + 0.036*\"chemicals\" + 0.036*\"forecasts\" + 0.036*\"huntsman\" + 0.036*\"u\" + 0.036*\"profit\"\n",
      "2017-07-27 14:04:55,106 : INFO : topic #5 (0.100): 0.067*\"clariant\" + 0.067*\"guidance\" + 0.056*\"year\" + 0.037*\"zurich\" + 0.037*\"profit\" + 0.036*\"20\" + 0.036*\"full\" + 0.034*\"july\" + 0.033*\"chemicals\" + 0.033*\"27\"\n",
      "2017-07-27 14:04:55,107 : INFO : topic #6 (0.100): 0.063*\"clariant\" + 0.051*\"year\" + 0.047*\"guidance\" + 0.042*\"zurich\" + 0.039*\"wi\" + 0.039*\"group\" + 0.039*\"20\" + 0.038*\"huntsman\" + 0.038*\"peer\" + 0.036*\"line\"\n",
      "2017-07-27 14:04:55,107 : INFO : topic #4 (0.100): 0.072*\"clariant\" + 0.068*\"guidance\" + 0.052*\"year\" + 0.038*\"keeps\" + 0.038*\"first\" + 0.037*\"full\" + 0.035*\"billion\" + 0.035*\"h1\" + 0.035*\"20\" + 0.035*\"merger\"\n",
      "2017-07-27 14:04:55,108 : INFO : topic #2 (0.100): 0.069*\"guidance\" + 0.064*\"year\" + 0.057*\"clariant\" + 0.036*\"reported\" + 0.036*\"peer\" + 0.035*\"wi\" + 0.035*\"meeting\" + 0.035*\"huntsman\" + 0.034*\"27\" + 0.034*\"zurich\"\n",
      "2017-07-27 14:04:55,108 : INFO : topic diff=1.173169, rho=1.000000\n",
      "2017-07-27 14:04:55,109 : INFO : saving LdaState object under model/lda.save.state, separately None\n",
      "2017-07-27 14:04:55,110 : INFO : saved model/lda.save.state\n",
      "2017-07-27 14:04:55,110 : INFO : saving LdaModel object under model/lda.save, separately ['expElogbeta', 'sstats']\n",
      "2017-07-27 14:04:55,111 : INFO : not storing attribute id2word\n",
      "2017-07-27 14:04:55,111 : INFO : storing np array 'expElogbeta' to model/lda.save.expElogbeta.npy\n",
      "2017-07-27 14:04:55,112 : INFO : not storing attribute state\n",
      "2017-07-27 14:04:55,112 : INFO : not storing attribute dispatcher\n",
      "2017-07-27 14:04:55,113 : INFO : saved model/lda.save\n"
     ]
    }
   ],
   "source": [
    "lda = gensim.models.ldamodel.LdaModel(corpus=corpus, id2word=dictionary, \n",
    "                                      num_topics=10, update_every=1, \n",
    "                                      chunksize=10000, passes=1)\n",
    "\n",
    "lda.save('model/lda.save')"
   ]
  },
  {
   "cell_type": "code",
   "execution_count": 31,
   "metadata": {
    "scrolled": true
   },
   "outputs": [
    {
     "name": "stderr",
     "output_type": "stream",
     "text": [
      "2017-07-27 14:04:55,116 : INFO : topic #8 (0.100): 0.038*\"clariant\" + 0.037*\"guidance\" + 0.036*\"year\" + 0.036*\"h1\" + 0.036*\"group\" + 0.036*\"chemicals\" + 0.036*\"forecasts\" + 0.036*\"huntsman\" + 0.036*\"u\" + 0.036*\"profit\"\n",
      "2017-07-27 14:04:55,117 : INFO : topic #5 (0.100): 0.067*\"clariant\" + 0.067*\"guidance\" + 0.056*\"year\" + 0.037*\"zurich\" + 0.037*\"profit\" + 0.036*\"20\" + 0.036*\"full\" + 0.034*\"july\" + 0.033*\"chemicals\" + 0.033*\"27\"\n",
      "2017-07-27 14:04:55,119 : INFO : topic #9 (0.100): 0.075*\"year\" + 0.062*\"clariant\" + 0.060*\"guidance\" + 0.038*\"group\" + 0.036*\"u\" + 0.036*\"carrying\" + 0.035*\"operating\" + 0.035*\"27\" + 0.034*\"july\" + 0.034*\"peer\"\n"
     ]
    },
    {
     "data": {
      "text/plain": [
       "[(8,\n",
       "  u'0.038*\"clariant\" + 0.037*\"guidance\" + 0.036*\"year\" + 0.036*\"h1\" + 0.036*\"group\" + 0.036*\"chemicals\" + 0.036*\"forecasts\" + 0.036*\"huntsman\" + 0.036*\"u\" + 0.036*\"profit\"'),\n",
       " (5,\n",
       "  u'0.067*\"clariant\" + 0.067*\"guidance\" + 0.056*\"year\" + 0.037*\"zurich\" + 0.037*\"profit\" + 0.036*\"20\" + 0.036*\"full\" + 0.034*\"july\" + 0.033*\"chemicals\" + 0.033*\"27\"'),\n",
       " (9,\n",
       "  u'0.075*\"year\" + 0.062*\"clariant\" + 0.060*\"guidance\" + 0.038*\"group\" + 0.036*\"u\" + 0.036*\"carrying\" + 0.035*\"operating\" + 0.035*\"27\" + 0.034*\"july\" + 0.034*\"peer\"')]"
      ]
     },
     "execution_count": 31,
     "metadata": {},
     "output_type": "execute_result"
    }
   ],
   "source": [
    "lda.print_topics(3)"
   ]
  },
  {
   "cell_type": "code",
   "execution_count": 32,
   "metadata": {},
   "outputs": [
    {
     "name": "stdout",
     "output_type": "stream",
     "text": [
      "[[u'clariant', u'year', u'guidance', u'swiss', u'forecasts', u'merger', u'chemicals', u'profit', u'line', u'billion', u'h1', u'half', u'operating', u'u', u'reported', u'keeps', u'wi', u'first', u'july', u'carrying', u'20', u'full', u'meeting', u'zurich', u'peer', u'huntsman', u'27', u'group'], [u'clariant', u'guidance', u'year', u'20', u'july', u'group', u'zurich', u'carrying', u'h1', u'full', u'profit', u'line', u'forecasts', u'keeps', u'merger', u'chemicals', u'half', u'27', u'huntsman', u'billion', u'operating', u'meeting', u'reported', u'u', u'swiss', u'wi', u'first', u'peer'], [u'guidance', u'year', u'clariant', u'reported', u'peer', u'wi', u'meeting', u'huntsman', u'27', u'zurich', u'full', u'20', u'first', u'half', u'july', u'line', u'u', u'merger', u'group', u'swiss', u'operating', u'chemicals', u'keeps', u'carrying', u'billion', u'h1', u'forecasts', u'profit']]\n"
     ]
    }
   ],
   "source": [
    "# select top 100 words for each of the 10 LDA topics\n",
    "TOP_KEYWORDS = [[word for word, _ in lda.show_topic(topicno, topn=NUM_TERMS)]\n",
    "             for topicno in range(lda.num_topics)]\n",
    "print(TOP_KEYWORDS[:3])"
   ]
  },
  {
   "cell_type": "code",
   "execution_count": 33,
   "metadata": {},
   "outputs": [
    {
     "name": "stdout",
     "output_type": "stream",
     "text": [
      "Saved to  exported/lda/lda_topic_0.csv\n",
      "Saved to  exported/lda/lda_topic_1.csv\n",
      "Saved to  exported/lda/lda_topic_2.csv\n",
      "Saved to  exported/lda/lda_topic_3.csv\n",
      "Saved to  exported/lda/lda_topic_4.csv\n",
      "Saved to  exported/lda/lda_topic_5.csv\n",
      "Saved to  exported/lda/lda_topic_6.csv\n",
      "Saved to  exported/lda/lda_topic_7.csv\n",
      "Saved to  exported/lda/lda_topic_8.csv\n",
      "Saved to  exported/lda/lda_topic_9.csv\n"
     ]
    }
   ],
   "source": [
    "# Export \n",
    "n = 0\n",
    "for _ in TOP_KEYWORDS:\n",
    "    save_to = \"exported/lda/lda_topic_%s.csv\" % n\n",
    "    pd.DataFrame(_, columns=['keyword']).to_csv(save_to, index=False)\n",
    "    n += 1\n",
    "    print 'Saved to ', save_to"
   ]
  },
  {
   "cell_type": "markdown",
   "metadata": {},
   "source": [
    "# TF-IDF"
   ]
  },
  {
   "cell_type": "code",
   "execution_count": 34,
   "metadata": {
    "collapsed": true
   },
   "outputs": [],
   "source": [
    "NUM_CLUSTERS = 10\n",
    "NUM_TERMS = 100"
   ]
  },
  {
   "cell_type": "code",
   "execution_count": 35,
   "metadata": {},
   "outputs": [
    {
     "name": "stderr",
     "output_type": "stream",
     "text": [
      "2017-07-27 14:04:55,148 : INFO : collecting document frequencies\n",
      "2017-07-27 14:04:55,148 : INFO : PROGRESS: processing document #0\n",
      "2017-07-27 14:04:55,150 : INFO : calculating IDF weights for 282 documents and 27 features (7869 matrix non-zeros)\n",
      "2017-07-27 14:04:55,152 : INFO : saving TfidfModel object under model/tfidf.save, separately None\n",
      "2017-07-27 14:04:55,153 : INFO : saved model/tfidf.save\n"
     ]
    }
   ],
   "source": [
    "tfidf = gensim.models.tfidfmodel.TfidfModel(corpus, id2word=dictionary)\n",
    "corpus_tfidf = tfidf[corpus]\n",
    "tfidf.save(\"model/tfidf.save\")"
   ]
  },
  {
   "cell_type": "code",
   "execution_count": 36,
   "metadata": {
    "collapsed": true
   },
   "outputs": [],
   "source": [
    "corpus_tfidf_sorted = []\n",
    "TOP_KEYWORDS = []\n",
    "for c in corpus_tfidf:\n",
    "    top_keywords = sorted(c, key=lambda t: t[1], reverse=True)\n",
    "    top_keywords = top_keywords[:NUM_TERMS]\n",
    "    corpus_tfidf_sorted.append(top_keywords)\n",
    "    TOP_KEYWORDS.append([dictionary[id] for id, _ in top_keywords])"
   ]
  },
  {
   "cell_type": "code",
   "execution_count": 37,
   "metadata": {},
   "outputs": [
    {
     "name": "stdout",
     "output_type": "stream",
     "text": [
      "[[u'year', u'guidance', u'zurich', u'h1', u'line', u'27', u'20', u'merger', u'meeting', u'full', u'huntsman', u'forecasts', u'reported', u'chemicals', u'carrying', u'operating', u'half', u'peer', u'group', u'july', u'billion', u'profit', u'u', u'swiss', u'first'], [u'wi', u'year', u'guidance', u'zurich', u'h1', u'line', u'27', u'20', u'merger', u'meeting', u'full', u'huntsman', u'forecasts', u'reported', u'chemicals', u'carrying', u'operating', u'half', u'peer', u'group', u'july', u'billion', u'profit', u'u', u'swiss', u'first']]\n"
     ]
    }
   ],
   "source": [
    "print TOP_KEYWORDS[:2]"
   ]
  },
  {
   "cell_type": "code",
   "execution_count": 38,
   "metadata": {},
   "outputs": [
    {
     "name": "stdout",
     "output_type": "stream",
     "text": [
      "Total keywords:  7305\n",
      "Total keywords after combined:  26\n",
      "[u'zurich', u'h1', u'year', u'line', u'27', u'20', u'merger', u'guidance', u'meeting', u'full']\n"
     ]
    }
   ],
   "source": [
    "# Combine top keywords\n",
    "import itertools\n",
    "TOP_KEYWORDS_MERGED = list(itertools.chain(*TOP_KEYWORDS))\n",
    "print \"Total keywords: \", len(TOP_KEYWORDS_MERGED)\n",
    "TOP_KEYWORDS_MERGED = list(set(TOP_KEYWORDS_MERGED))\n",
    "print \"Total keywords after combined: \", len(TOP_KEYWORDS_MERGED)\n",
    "print TOP_KEYWORDS_MERGED[:10]"
   ]
  },
  {
   "cell_type": "code",
   "execution_count": 39,
   "metadata": {},
   "outputs": [
    {
     "name": "stdout",
     "output_type": "stream",
     "text": [
      "Saved to  exported/tfidf/tfidf_keywords.csv\n"
     ]
    }
   ],
   "source": [
    "# Export \n",
    "save_to = \"exported/tfidf/tfidf_keywords.csv\"\n",
    "pd.DataFrame(TOP_KEYWORDS_MERGED, columns=['keyword']).to_csv(save_to, index=False)\n",
    "print 'Saved to ', save_to"
   ]
  },
  {
   "cell_type": "markdown",
   "metadata": {},
   "source": [
    "# TF-IDF with K-means"
   ]
  },
  {
   "cell_type": "code",
   "execution_count": 40,
   "metadata": {
    "collapsed": true
   },
   "outputs": [],
   "source": [
    "NUM_CLUSTERS = 10\n",
    "NUM_TERMS = 100"
   ]
  },
  {
   "cell_type": "code",
   "execution_count": 41,
   "metadata": {
    "collapsed": true
   },
   "outputs": [],
   "source": [
    "from sklearn.cluster import KMeans\n",
    "import numpy as np"
   ]
  },
  {
   "cell_type": "code",
   "execution_count": 42,
   "metadata": {
    "collapsed": true
   },
   "outputs": [],
   "source": [
    "# X = np.array(corpus_tfidf).tolist()"
   ]
  },
  {
   "cell_type": "code",
   "execution_count": 43,
   "metadata": {},
   "outputs": [],
   "source": [
    "# kmeans = KMeans(n_clusters=NUM_CLUSTERS, random_state=0).fit(X)"
   ]
  },
  {
   "cell_type": "code",
   "execution_count": null,
   "metadata": {
    "collapsed": true
   },
   "outputs": [],
   "source": []
  }
 ],
 "metadata": {
  "kernelspec": {
   "display_name": "Python 2",
   "language": "python",
   "name": "python2"
  },
  "language_info": {
   "codemirror_mode": {
    "name": "ipython",
    "version": 2
   },
   "file_extension": ".py",
   "mimetype": "text/x-python",
   "name": "python",
   "nbconvert_exporter": "python",
   "pygments_lexer": "ipython2",
   "version": "2.7.12"
  }
 },
 "nbformat": 4,
 "nbformat_minor": 2
}
