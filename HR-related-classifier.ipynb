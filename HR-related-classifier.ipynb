{
 "cells": [
  {
   "cell_type": "code",
   "execution_count": 76,
   "metadata": {
    "collapsed": true
   },
   "outputs": [],
   "source": [
    "import glob\n",
    "import gensim\n",
    "import pandas as pd\n",
    "import numpy as np\n",
    "import logging\n",
    "import nltk\n",
    "from nltk.tokenize import RegexpTokenizer\n",
    "from nltk.stem import WordNetLemmatizer\n",
    "from nltk.corpus import stopwords\n",
    "\n",
    "wordnet_lemmatizer = WordNetLemmatizer()\n",
    "tokenizer = RegexpTokenizer(r'\\w+')\n",
    "STOPWORDS = set(stopwords.words('english'))\n",
    "STOPWORDS.update(['.', ',', '\"', \"'\", '?', '!', ':', ';', '(', ')', '[', ']', '{', '}'])\n",
    "\n",
    "logging.basicConfig(format='%(asctime)s : %(levelname)s : %(message)s', level=logging.INFO)"
   ]
  },
  {
   "cell_type": "code",
   "execution_count": 77,
   "metadata": {},
   "outputs": [
    {
     "name": "stderr",
     "output_type": "stream",
     "text": [
      "2017-07-28 15:57:31,711 : INFO : adding document #0 to Dictionary(0 unique tokens: [])\n",
      "2017-07-28 15:57:31,712 : INFO : built Dictionary(4 unique tokens: [u'new', u'cut', u'layoff', u'panel']) from 1 documents (total 4 corpus positions)\n"
     ]
    },
    {
     "data": {
      "text/plain": [
       "[(0, u'new'), (1, u'cut'), (2, u'layoff'), (3, u'panel')]"
      ]
     },
     "execution_count": 77,
     "metadata": {},
     "output_type": "execute_result"
    }
   ],
   "source": [
    "D_raw = [[u'layoff', 'cut', 'new', u'panel']]\n",
    "VECTOR_LEN = len(D_raw[0])\n",
    "\n",
    "D = gensim.corpora.Dictionary(D_raw)\n",
    "D.items()"
   ]
  },
  {
   "cell_type": "code",
   "execution_count": 78,
   "metadata": {},
   "outputs": [
    {
     "data": {
      "text/html": [
       "<div>\n",
       "<style>\n",
       "    .dataframe thead tr:only-child th {\n",
       "        text-align: right;\n",
       "    }\n",
       "\n",
       "    .dataframe thead th {\n",
       "        text-align: left;\n",
       "    }\n",
       "\n",
       "    .dataframe tbody tr th {\n",
       "        vertical-align: top;\n",
       "    }\n",
       "</style>\n",
       "<table border=\"1\" class=\"dataframe\">\n",
       "  <thead>\n",
       "    <tr style=\"text-align: right;\">\n",
       "      <th></th>\n",
       "      <th>url</th>\n",
       "      <th>title</th>\n",
       "      <th>tag</th>\n",
       "      <th>time</th>\n",
       "      <th>short_text</th>\n",
       "      <th>long_text</th>\n",
       "      <th>label</th>\n",
       "      <th>full_content</th>\n",
       "    </tr>\n",
       "  </thead>\n",
       "  <tbody>\n",
       "    <tr>\n",
       "      <th>0</th>\n",
       "      <td>https://www.reuters.com/article/us-usa-congres...</td>\n",
       "      <td>U.S. House panel spotlights use of FDA rules t...</td>\n",
       "      <td>NaN</td>\n",
       "      <td>Jul 27 2017</td>\n",
       "      <td>Republican and Democratic lawmakers on Thursda...</td>\n",
       "      <td>WASHINGTON (Reuters) - Republican and Democrat...</td>\n",
       "      <td>0</td>\n",
       "      <td>U.S. House panel spotlights use of FDA rules t...</td>\n",
       "    </tr>\n",
       "    <tr>\n",
       "      <th>1</th>\n",
       "      <td>https://www.reuters.com/article/us-amgen-chole...</td>\n",
       "      <td>Amgen gets fast FDA review for adding heart be...</td>\n",
       "      <td>NaN</td>\n",
       "      <td>Jul 27 2017</td>\n",
       "      <td>Amgen Inc said on Thursday the U.S. Food and D...</td>\n",
       "      <td>(Reuters) - Amgen Inc said on Thursday the U.S...</td>\n",
       "      <td>0</td>\n",
       "      <td>Amgen gets fast FDA review for adding heart be...</td>\n",
       "    </tr>\n",
       "    <tr>\n",
       "      <th>2</th>\n",
       "      <td>https://www.reuters.com/article/us-health-tran...</td>\n",
       "      <td>Trans teens worse off on health measures than ...</td>\n",
       "      <td>NaN</td>\n",
       "      <td>Jul 27 2017</td>\n",
       "      <td>(Reuters Health) - Teenagers who identify as t...</td>\n",
       "      <td>(Reuters Health) - Teenagers who identify as t...</td>\n",
       "      <td>0</td>\n",
       "      <td>Trans teens worse off on health measures than ...</td>\n",
       "    </tr>\n",
       "    <tr>\n",
       "      <th>3</th>\n",
       "      <td>https://www.reuters.com/article/us-health-obes...</td>\n",
       "      <td>Adult colorectal cancer risk tied to weight as...</td>\n",
       "      <td>NaN</td>\n",
       "      <td>Jul 27 2017</td>\n",
       "      <td>(Reuters Health) - Being overweight or obese a...</td>\n",
       "      <td>(Reuters Health) - Being overweight or obese a...</td>\n",
       "      <td>0</td>\n",
       "      <td>Adult colorectal cancer risk tied to weight as...</td>\n",
       "    </tr>\n",
       "    <tr>\n",
       "      <th>4</th>\n",
       "      <td>https://www.reuters.com/article/us-health-pert...</td>\n",
       "      <td>Vaccine lessens severity of whooping cough inf...</td>\n",
       "      <td>NaN</td>\n",
       "      <td>Jul 27 2017</td>\n",
       "      <td>(Reuters Health) - Even though vaccinations do...</td>\n",
       "      <td>(Reuters Health) - Even though vaccinations do...</td>\n",
       "      <td>0</td>\n",
       "      <td>Vaccine lessens severity of whooping cough inf...</td>\n",
       "    </tr>\n",
       "  </tbody>\n",
       "</table>\n",
       "</div>"
      ],
      "text/plain": [
       "                                                 url  \\\n",
       "0  https://www.reuters.com/article/us-usa-congres...   \n",
       "1  https://www.reuters.com/article/us-amgen-chole...   \n",
       "2  https://www.reuters.com/article/us-health-tran...   \n",
       "3  https://www.reuters.com/article/us-health-obes...   \n",
       "4  https://www.reuters.com/article/us-health-pert...   \n",
       "\n",
       "                                               title  tag         time  \\\n",
       "0  U.S. House panel spotlights use of FDA rules t...  NaN  Jul 27 2017   \n",
       "1  Amgen gets fast FDA review for adding heart be...  NaN  Jul 27 2017   \n",
       "2  Trans teens worse off on health measures than ...  NaN  Jul 27 2017   \n",
       "3  Adult colorectal cancer risk tied to weight as...  NaN  Jul 27 2017   \n",
       "4  Vaccine lessens severity of whooping cough inf...  NaN  Jul 27 2017   \n",
       "\n",
       "                                          short_text  \\\n",
       "0  Republican and Democratic lawmakers on Thursda...   \n",
       "1  Amgen Inc said on Thursday the U.S. Food and D...   \n",
       "2  (Reuters Health) - Teenagers who identify as t...   \n",
       "3  (Reuters Health) - Being overweight or obese a...   \n",
       "4  (Reuters Health) - Even though vaccinations do...   \n",
       "\n",
       "                                           long_text  label  \\\n",
       "0  WASHINGTON (Reuters) - Republican and Democrat...      0   \n",
       "1  (Reuters) - Amgen Inc said on Thursday the U.S...      0   \n",
       "2  (Reuters Health) - Teenagers who identify as t...      0   \n",
       "3  (Reuters Health) - Being overweight or obese a...      0   \n",
       "4  (Reuters Health) - Even though vaccinations do...      0   \n",
       "\n",
       "                                        full_content  \n",
       "0  U.S. House panel spotlights use of FDA rules t...  \n",
       "1  Amgen gets fast FDA review for adding heart be...  \n",
       "2  Trans teens worse off on health measures than ...  \n",
       "3  Adult colorectal cancer risk tied to weight as...  \n",
       "4  Vaccine lessens severity of whooping cough inf...  "
      ]
     },
     "execution_count": 78,
     "metadata": {},
     "output_type": "execute_result"
    }
   ],
   "source": [
    "data = pd.read_csv(\"data_clf/health_reuter.csv\")\n",
    "data['label'] = 0\n",
    "data['full_content'] = data['title'] + ' ' + data['long_text']\n",
    "data.head()"
   ]
  },
  {
   "cell_type": "code",
   "execution_count": null,
   "metadata": {
    "collapsed": true
   },
   "outputs": [],
   "source": []
  },
  {
   "cell_type": "code",
   "execution_count": 93,
   "metadata": {},
   "outputs": [],
   "source": [
    "def line2vec(doc, dictionary):\n",
    "    doc = [wordnet_lemmatizer.lemmatize(z) for z in tokenizer.tokenize(str(doc).decode('utf-8').lower()) if z not in STOPWORDS] \n",
    "    bow_vector = dictionary.doc2bow(doc)\n",
    "    \n",
    "    # Convert to multi-hot vector\n",
    "    bow_vector = [(v, 1) for v, _ in bow_vector]\n",
    "    \n",
    "    return bow_vector \n",
    "\n",
    "def doc2vec(data_texts):\n",
    "    return [line2vec(text, D) for text in data_texts]\n",
    "\n",
    "def predict(text):\n",
    "    vector = gensim.matutils.sparse2full(line2vec(text, D), VECTOR_LEN)\n",
    "    baseline_vector = np.ones(VECTOR_LEN)\n",
    "    print line2vec(text, D)\n",
    "    return gensim.matutils.cossim(vector, baseline_vector)"
   ]
  },
  {
   "cell_type": "code",
   "execution_count": 94,
   "metadata": {},
   "outputs": [
    {
     "name": "stdout",
     "output_type": "stream",
     "text": [
      "[(3, 1)]\n"
     ]
    },
    {
     "ename": "TypeError",
     "evalue": "cannot convert dictionary update sequence element #0 to a sequence",
     "output_type": "error",
     "traceback": [
      "\u001b[0;31m---------------------------------------------------------------------------\u001b[0m",
      "\u001b[0;31mTypeError\u001b[0m                                 Traceback (most recent call last)",
      "\u001b[0;32m<ipython-input-94-794b3b783b93>\u001b[0m in \u001b[0;36m<module>\u001b[0;34m()\u001b[0m\n\u001b[0;32m----> 1\u001b[0;31m \u001b[0mdata\u001b[0m\u001b[0;34m[\u001b[0m\u001b[0;34m'predict'\u001b[0m\u001b[0;34m]\u001b[0m \u001b[0;34m=\u001b[0m \u001b[0mdata\u001b[0m\u001b[0;34m[\u001b[0m\u001b[0;34m'full_content'\u001b[0m\u001b[0;34m]\u001b[0m\u001b[0;34m.\u001b[0m\u001b[0mapply\u001b[0m\u001b[0;34m(\u001b[0m\u001b[0mpredict\u001b[0m\u001b[0;34m)\u001b[0m\u001b[0;34m\u001b[0m\u001b[0m\n\u001b[0m",
      "\u001b[0;32m/home/duyetdev/.local/lib/python2.7/site-packages/pandas/core/series.pyc\u001b[0m in \u001b[0;36mapply\u001b[0;34m(self, func, convert_dtype, args, **kwds)\u001b[0m\n\u001b[1;32m   2353\u001b[0m             \u001b[0;32melse\u001b[0m\u001b[0;34m:\u001b[0m\u001b[0;34m\u001b[0m\u001b[0m\n\u001b[1;32m   2354\u001b[0m                 \u001b[0mvalues\u001b[0m \u001b[0;34m=\u001b[0m \u001b[0mself\u001b[0m\u001b[0;34m.\u001b[0m\u001b[0masobject\u001b[0m\u001b[0;34m\u001b[0m\u001b[0m\n\u001b[0;32m-> 2355\u001b[0;31m                 \u001b[0mmapped\u001b[0m \u001b[0;34m=\u001b[0m \u001b[0mlib\u001b[0m\u001b[0;34m.\u001b[0m\u001b[0mmap_infer\u001b[0m\u001b[0;34m(\u001b[0m\u001b[0mvalues\u001b[0m\u001b[0;34m,\u001b[0m \u001b[0mf\u001b[0m\u001b[0;34m,\u001b[0m \u001b[0mconvert\u001b[0m\u001b[0;34m=\u001b[0m\u001b[0mconvert_dtype\u001b[0m\u001b[0;34m)\u001b[0m\u001b[0;34m\u001b[0m\u001b[0m\n\u001b[0m\u001b[1;32m   2356\u001b[0m \u001b[0;34m\u001b[0m\u001b[0m\n\u001b[1;32m   2357\u001b[0m         \u001b[0;32mif\u001b[0m \u001b[0mlen\u001b[0m\u001b[0;34m(\u001b[0m\u001b[0mmapped\u001b[0m\u001b[0;34m)\u001b[0m \u001b[0;32mand\u001b[0m \u001b[0misinstance\u001b[0m\u001b[0;34m(\u001b[0m\u001b[0mmapped\u001b[0m\u001b[0;34m[\u001b[0m\u001b[0;36m0\u001b[0m\u001b[0;34m]\u001b[0m\u001b[0;34m,\u001b[0m \u001b[0mSeries\u001b[0m\u001b[0;34m)\u001b[0m\u001b[0;34m:\u001b[0m\u001b[0;34m\u001b[0m\u001b[0m\n",
      "\u001b[0;32mpandas/_libs/src/inference.pyx\u001b[0m in \u001b[0;36mpandas._libs.lib.map_infer (pandas/_libs/lib.c:66645)\u001b[0;34m()\u001b[0m\n",
      "\u001b[0;32m<ipython-input-93-fc4f0272eb80>\u001b[0m in \u001b[0;36mpredict\u001b[0;34m(text)\u001b[0m\n\u001b[1;32m     15\u001b[0m     \u001b[0mbaseline_vector\u001b[0m \u001b[0;34m=\u001b[0m \u001b[0mnp\u001b[0m\u001b[0;34m.\u001b[0m\u001b[0mones\u001b[0m\u001b[0;34m(\u001b[0m\u001b[0mVECTOR_LEN\u001b[0m\u001b[0;34m)\u001b[0m\u001b[0;34m\u001b[0m\u001b[0m\n\u001b[1;32m     16\u001b[0m     \u001b[0;32mprint\u001b[0m \u001b[0mline2vec\u001b[0m\u001b[0;34m(\u001b[0m\u001b[0mtext\u001b[0m\u001b[0;34m,\u001b[0m \u001b[0mD\u001b[0m\u001b[0;34m)\u001b[0m\u001b[0;34m\u001b[0m\u001b[0m\n\u001b[0;32m---> 17\u001b[0;31m     \u001b[0;32mreturn\u001b[0m \u001b[0mgensim\u001b[0m\u001b[0;34m.\u001b[0m\u001b[0mmatutils\u001b[0m\u001b[0;34m.\u001b[0m\u001b[0mcossim\u001b[0m\u001b[0;34m(\u001b[0m\u001b[0mvector\u001b[0m\u001b[0;34m,\u001b[0m \u001b[0mbaseline_vector\u001b[0m\u001b[0;34m)\u001b[0m\u001b[0;34m\u001b[0m\u001b[0m\n\u001b[0m",
      "\u001b[0;32m/home/duyetdev/.local/lib/python2.7/site-packages/gensim/matutils.pyc\u001b[0m in \u001b[0;36mcossim\u001b[0;34m(vec1, vec2)\u001b[0m\n\u001b[1;32m    414\u001b[0m     \u001b[0mThe\u001b[0m \u001b[0msimilarity\u001b[0m \u001b[0;32mis\u001b[0m \u001b[0ma\u001b[0m \u001b[0mnumber\u001b[0m \u001b[0mbetween\u001b[0m \u001b[0;34m<\u001b[0m\u001b[0;34m-\u001b[0m\u001b[0;36m1.0\u001b[0m\u001b[0;34m,\u001b[0m \u001b[0;36m1.0\u001b[0m\u001b[0;34m>\u001b[0m\u001b[0;34m,\u001b[0m \u001b[0mhigher\u001b[0m \u001b[0;32mis\u001b[0m \u001b[0mmore\u001b[0m \u001b[0msimilar\u001b[0m\u001b[0;34m.\u001b[0m\u001b[0;34m\u001b[0m\u001b[0m\n\u001b[1;32m    415\u001b[0m     \"\"\"\n\u001b[0;32m--> 416\u001b[0;31m     \u001b[0mvec1\u001b[0m\u001b[0;34m,\u001b[0m \u001b[0mvec2\u001b[0m \u001b[0;34m=\u001b[0m \u001b[0mdict\u001b[0m\u001b[0;34m(\u001b[0m\u001b[0mvec1\u001b[0m\u001b[0;34m)\u001b[0m\u001b[0;34m,\u001b[0m \u001b[0mdict\u001b[0m\u001b[0;34m(\u001b[0m\u001b[0mvec2\u001b[0m\u001b[0;34m)\u001b[0m\u001b[0;34m\u001b[0m\u001b[0m\n\u001b[0m\u001b[1;32m    417\u001b[0m     \u001b[0;32mif\u001b[0m \u001b[0;32mnot\u001b[0m \u001b[0mvec1\u001b[0m \u001b[0;32mor\u001b[0m \u001b[0;32mnot\u001b[0m \u001b[0mvec2\u001b[0m\u001b[0;34m:\u001b[0m\u001b[0;34m\u001b[0m\u001b[0m\n\u001b[1;32m    418\u001b[0m         \u001b[0;32mreturn\u001b[0m \u001b[0;36m0.0\u001b[0m\u001b[0;34m\u001b[0m\u001b[0m\n",
      "\u001b[0;31mTypeError\u001b[0m: cannot convert dictionary update sequence element #0 to a sequence"
     ]
    }
   ],
   "source": [
    "data['predict'] = data['full_content'].apply(predict)"
   ]
  },
  {
   "cell_type": "code",
   "execution_count": 75,
   "metadata": {},
   "outputs": [],
   "source": [
    "\n"
   ]
  },
  {
   "cell_type": "code",
   "execution_count": null,
   "metadata": {},
   "outputs": [],
   "source": []
  },
  {
   "cell_type": "code",
   "execution_count": null,
   "metadata": {
    "collapsed": true
   },
   "outputs": [],
   "source": []
  },
  {
   "cell_type": "code",
   "execution_count": null,
   "metadata": {
    "collapsed": true
   },
   "outputs": [],
   "source": []
  },
  {
   "cell_type": "code",
   "execution_count": null,
   "metadata": {
    "collapsed": true
   },
   "outputs": [],
   "source": []
  },
  {
   "cell_type": "code",
   "execution_count": null,
   "metadata": {
    "collapsed": true
   },
   "outputs": [],
   "source": []
  }
 ],
 "metadata": {
  "kernelspec": {
   "display_name": "Python 2",
   "language": "python",
   "name": "python2"
  },
  "language_info": {
   "codemirror_mode": {
    "name": "ipython",
    "version": 2
   },
   "file_extension": ".py",
   "mimetype": "text/x-python",
   "name": "python",
   "nbconvert_exporter": "python",
   "pygments_lexer": "ipython2",
   "version": "2.7.12"
  }
 },
 "nbformat": 4,
 "nbformat_minor": 2
}
