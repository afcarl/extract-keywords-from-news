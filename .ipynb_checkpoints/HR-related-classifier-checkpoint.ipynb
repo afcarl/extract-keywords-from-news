{
 "cells": [
  {
   "cell_type": "code",
   "execution_count": 443,
   "metadata": {
    "collapsed": true
   },
   "outputs": [],
   "source": [
    "import glob\n",
    "import gensim\n",
    "import pandas as pd\n",
    "import numpy as np\n",
    "import logging\n",
    "import nltk\n",
    "import itertools\n",
    "from nltk.tokenize import RegexpTokenizer\n",
    "from nltk.stem import WordNetLemmatizer\n",
    "from nltk.corpus import stopwords\n",
    "\n",
    "wordnet_lemmatizer = WordNetLemmatizer()\n",
    "tokenizer = RegexpTokenizer(r'\\w+')\n",
    "STOPWORDS = set(stopwords.words('english'))\n",
    "STOPWORDS.update(['.', ',', '\"', \"'\", '?', '!', ':', ';', '(', ')', '[', ']', '{', '}'])\n",
    "\n",
    "logging.basicConfig(format='%(asctime)s : %(levelname)s : %(message)s', level=logging.INFO)"
   ]
  },
  {
   "cell_type": "code",
   "execution_count": 512,
   "metadata": {},
   "outputs": [
    {
     "name": "stderr",
     "output_type": "stream",
     "text": [
      "2017-07-29 16:09:45,396 : INFO : adding document #0 to Dictionary(0 unique tokens: [])\n",
      "2017-07-29 16:09:45,397 : INFO : built Dictionary(72 unique tokens: [u'claim', u'bank_closing', u'layoff', u'facility', u'loan']...) from 1 documents (total 72 corpus positions)\n"
     ]
    },
    {
     "data": {
      "text/plain": [
       "[(0, u'claim'),\n",
       " (1, u'bank_closing'),\n",
       " (2, u'layoff'),\n",
       " (3, u'facility'),\n",
       " (4, u'loan')]"
      ]
     },
     "execution_count": 512,
     "metadata": {},
     "output_type": "execute_result"
    }
   ],
   "source": [
    "unigram_keyword = [\n",
    "#     \"exported_keywords_lda_2topic.csv\", \n",
    "#     \"exported_keywords_lda_5topic.csv\", \n",
    "    \"exported_keywords_lda_10topic_layoff.csv\"\n",
    "]\n",
    "\n",
    "skipgram_keyword = [\n",
    "#     \"exported_keywords_lda_skipgram_window4.csv\", \n",
    "#     \"exported_keywords_lda_skipgram_window2.csv\", \n",
    "    \"exported_keywords_lda_skipgram_window2_layoff.csv\", \n",
    "]\n",
    "\n",
    "keyword_ = []\n",
    "for f in unigram_keyword + skipgram_keyword:\n",
    "    keyword_.append(pd.read_csv(\"choosed_keywords/\" + f, names=['keyword']))\n",
    "    \n",
    "keyword = pd.concat(keyword_)\n",
    "keyword.drop_duplicates(inplace=True)\n",
    "\n",
    "D_raw = [keyword.keyword.tolist()]\n",
    "VECTOR_LEN = len(D_raw[0])\n",
    "\n",
    "D = gensim.corpora.Dictionary(D_raw)\n",
    "\n",
    "D.items()[:5]"
   ]
  },
  {
   "cell_type": "code",
   "execution_count": 513,
   "metadata": {},
   "outputs": [
    {
     "name": "stdout",
     "output_type": "stream",
     "text": [
      "Reading data_clf/label_1.csv\n",
      "Reading data_clf/label_0.csv\n",
      "200\n"
     ]
    },
    {
     "data": {
      "text/html": [
       "<div>\n",
       "<style>\n",
       "    .dataframe thead tr:only-child th {\n",
       "        text-align: right;\n",
       "    }\n",
       "\n",
       "    .dataframe thead th {\n",
       "        text-align: left;\n",
       "    }\n",
       "\n",
       "    .dataframe tbody tr th {\n",
       "        vertical-align: top;\n",
       "    }\n",
       "</style>\n",
       "<table border=\"1\" class=\"dataframe\">\n",
       "  <thead>\n",
       "    <tr style=\"text-align: right;\">\n",
       "      <th></th>\n",
       "      <th>url</th>\n",
       "      <th>title</th>\n",
       "      <th>tag</th>\n",
       "      <th>time</th>\n",
       "      <th>short_text</th>\n",
       "      <th>long_text</th>\n",
       "      <th>full_content</th>\n",
       "      <th>label</th>\n",
       "    </tr>\n",
       "  </thead>\n",
       "  <tbody>\n",
       "    <tr>\n",
       "      <th>0</th>\n",
       "      <td>https://www.reuters.com/article/brief-soundclo...</td>\n",
       "      <td>BRIEF-SoundCloud says to layoff 173 employees ...</td>\n",
       "      <td>NaN</td>\n",
       "      <td>July 6, 2017 /  4:09 PM / 21 days ago</td>\n",
       "      <td>NaN</td>\n",
       "      <td>July 6 (Reuters) - * SoundCloud says took the ...</td>\n",
       "      <td>BRIEF-SoundCloud says to layoff 173 employees ...</td>\n",
       "      <td>1</td>\n",
       "    </tr>\n",
       "    <tr>\n",
       "      <th>1</th>\n",
       "      <td>https://www.reuters.com/article/idUSL5N1FD0MP</td>\n",
       "      <td>BRIEF-Alma Market to layoff 425 employees</td>\n",
       "      <td>NaN</td>\n",
       "      <td>January 23, 2017 /  6:20 AM / 6 months ago</td>\n",
       "      <td>NaN</td>\n",
       "      <td>Jan 23 (Reuters) - Alma Market SA : * Said on ...</td>\n",
       "      <td>BRIEF-Alma Market to layoff 425 employees Jan ...</td>\n",
       "      <td>1</td>\n",
       "    </tr>\n",
       "    <tr>\n",
       "      <th>2</th>\n",
       "      <td>https://www.reuters.com/article/gm-layoffs-idU...</td>\n",
       "      <td>GM will layoff 1,100 in Michigan after product...</td>\n",
       "      <td>NaN</td>\n",
       "      <td>March 6, 2017 /  3:11 PM / 5 months ago</td>\n",
       "      <td>NaN</td>\n",
       "      <td>WASHINGTON, March 6 (Reuters) - General Motors...</td>\n",
       "      <td>GM will layoff 1,100 in Michigan after product...</td>\n",
       "      <td>1</td>\n",
       "    </tr>\n",
       "    <tr>\n",
       "      <th>3</th>\n",
       "      <td>https://www.reuters.com/article/us-amazon-com-...</td>\n",
       "      <td>Amazon plans layoffs at Quidsi unit after losses</td>\n",
       "      <td>NaN</td>\n",
       "      <td>March 29, 2017 /  6:58 PM / 4 months ago</td>\n",
       "      <td>NaN</td>\n",
       "      <td>(Reuters) - Amazon.com Inc (AMZN.O) plans to c...</td>\n",
       "      <td>Amazon plans layoffs at Quidsi unit after loss...</td>\n",
       "      <td>1</td>\n",
       "    </tr>\n",
       "    <tr>\n",
       "      <th>4</th>\n",
       "      <td>https://www.reuters.com/article/us-gm-jobs-idU...</td>\n",
       "      <td>GM will rehire 500 Michigan workers slated for...</td>\n",
       "      <td>NaN</td>\n",
       "      <td>March 15, 2017 /  12:58 PM / 4 months ago</td>\n",
       "      <td>NaN</td>\n",
       "      <td>WASHINGTON (Reuters) - General Motors Co plans...</td>\n",
       "      <td>GM will rehire 500 Michigan workers slated for...</td>\n",
       "      <td>1</td>\n",
       "    </tr>\n",
       "  </tbody>\n",
       "</table>\n",
       "</div>"
      ],
      "text/plain": [
       "                                                 url  \\\n",
       "0  https://www.reuters.com/article/brief-soundclo...   \n",
       "1      https://www.reuters.com/article/idUSL5N1FD0MP   \n",
       "2  https://www.reuters.com/article/gm-layoffs-idU...   \n",
       "3  https://www.reuters.com/article/us-amazon-com-...   \n",
       "4  https://www.reuters.com/article/us-gm-jobs-idU...   \n",
       "\n",
       "                                               title  tag  \\\n",
       "0  BRIEF-SoundCloud says to layoff 173 employees ...  NaN   \n",
       "1          BRIEF-Alma Market to layoff 425 employees  NaN   \n",
       "2  GM will layoff 1,100 in Michigan after product...  NaN   \n",
       "3   Amazon plans layoffs at Quidsi unit after losses  NaN   \n",
       "4  GM will rehire 500 Michigan workers slated for...  NaN   \n",
       "\n",
       "                                         time short_text  \\\n",
       "0       July 6, 2017 /  4:09 PM / 21 days ago        NaN   \n",
       "1  January 23, 2017 /  6:20 AM / 6 months ago        NaN   \n",
       "2     March 6, 2017 /  3:11 PM / 5 months ago        NaN   \n",
       "3    March 29, 2017 /  6:58 PM / 4 months ago        NaN   \n",
       "4   March 15, 2017 /  12:58 PM / 4 months ago        NaN   \n",
       "\n",
       "                                           long_text  \\\n",
       "0  July 6 (Reuters) - * SoundCloud says took the ...   \n",
       "1  Jan 23 (Reuters) - Alma Market SA : * Said on ...   \n",
       "2  WASHINGTON, March 6 (Reuters) - General Motors...   \n",
       "3  (Reuters) - Amazon.com Inc (AMZN.O) plans to c...   \n",
       "4  WASHINGTON (Reuters) - General Motors Co plans...   \n",
       "\n",
       "                                        full_content  label  \n",
       "0  BRIEF-SoundCloud says to layoff 173 employees ...      1  \n",
       "1  BRIEF-Alma Market to layoff 425 employees Jan ...      1  \n",
       "2  GM will layoff 1,100 in Michigan after product...      1  \n",
       "3  Amazon plans layoffs at Quidsi unit after loss...      1  \n",
       "4  GM will rehire 500 Michigan workers slated for...      1  "
      ]
     },
     "execution_count": 513,
     "metadata": {},
     "output_type": "execute_result"
    }
   ],
   "source": [
    "files = [('data_clf/label_1.csv', 1), (\"data_clf/label_0.csv\", 0)] # (file, label)\n",
    "\n",
    "LINES = 100\n",
    "data_ = []\n",
    "for f, label in files:\n",
    "    print 'Reading', f\n",
    "    df = pd.read_csv(f, encoding='utf-8')\n",
    "    df['full_content'] = df['title'] + ' ' + df['long_text']\n",
    "    df['label'] = label\n",
    "    data_.append(df.head(LINES))\n",
    "    \n",
    "data = pd.concat(data_)\n",
    "\n",
    "print len(data.index)\n",
    "data.head()"
   ]
  },
  {
   "cell_type": "code",
   "execution_count": 514,
   "metadata": {
    "collapsed": true
   },
   "outputs": [],
   "source": [
    "from itertools import chain, combinations\n",
    "import copy\n",
    "from nltk.util import ngrams\n",
    "\n",
    "def pad_sequence(sequence, n, pad_left=False, pad_right=False, pad_symbol=None):\n",
    "    if pad_left:\n",
    "        sequence = chain((pad_symbol,) * (n-1), sequence)\n",
    "    if pad_right:\n",
    "        sequence = chain(sequence, (pad_symbol,) * (n-1))\n",
    "    return sequence\n",
    "\n",
    "def skipgrams(sequence, n, k, pad_left=False, pad_right=False, pad_symbol=None):\n",
    "    sequence_length = len(sequence)\n",
    "    sequence = iter(sequence)\n",
    "    sequence = pad_sequence(sequence, n, pad_left, pad_right, pad_symbol)\n",
    "\n",
    "    if sequence_length + pad_left + pad_right < k:\n",
    "        raise Exception(\"The length of sentence + padding(s) < skip\")\n",
    "\n",
    "    if n < k:\n",
    "        raise Exception(\"Degree of Ngrams (n) needs to be bigger than skip (k)\")    \n",
    "\n",
    "    history = []\n",
    "    nk = n+k\n",
    "\n",
    "    # Return point for recursion.\n",
    "    if nk < 1: \n",
    "        return\n",
    "    # If n+k longer than sequence, reduce k by 1 and recur\n",
    "    elif nk > sequence_length: \n",
    "        for ng in skipgrams(list(sequence), n, k-1):\n",
    "            yield ng\n",
    "\n",
    "    while nk > 1: # Collects the first instance of n+k length history\n",
    "        history.append(next(sequence))\n",
    "        nk -= 1\n",
    "\n",
    "    # Iterative drop first item in history and picks up the next\n",
    "    # while yielding skipgrams for each iteration.\n",
    "    for item in sequence:\n",
    "        history.append(item)\n",
    "        current_token = history.pop(0)      \n",
    "        # Iterates through the rest of the history and \n",
    "        # pick out all combinations the n-1grams\n",
    "        for idx in list(combinations(range(len(history)), n-1)):\n",
    "            ng = [current_token]\n",
    "            for _id in idx:\n",
    "                ng.append(history[_id])\n",
    "            yield tuple(ng)\n",
    "\n",
    "    # Recursively yield the skigrams for the rest of seqeunce where\n",
    "    # len(sequence) < n+k\n",
    "    for ng in list(skipgrams(history, n, k-1)):\n",
    "        yield ng"
   ]
  },
  {
   "cell_type": "code",
   "execution_count": 515,
   "metadata": {},
   "outputs": [],
   "source": [
    "def line2vec(doc, dictionary):\n",
    "    def token(sentence):\n",
    "        sentence = unicode(sentence).lower()\n",
    "        unigram = tokenizer.tokenize(sentence)\n",
    "        \n",
    "        two_skip_bigrams = list(skipgrams(unigram, n=2, k=2))\n",
    "        skipgram = [ \"_\".join(a) for a in two_skip_bigrams ]\n",
    "        return unigram + skipgram\n",
    "        \n",
    "    doc = [wordnet_lemmatizer.lemmatize(z) for z in token(unicode(doc).lower()) if z not in STOPWORDS] \n",
    "    bow_vector = dictionary.doc2bow(doc)\n",
    "    \n",
    "    # Convert to multi-hot vector\n",
    "    bow_vector = [(v, 1) for v, _ in bow_vector]\n",
    "    \n",
    "    return bow_vector \n",
    "\n",
    "def doc2vec(data_texts):\n",
    "    return [line2vec(text, D) for text in data_texts]\n",
    "\n",
    "def similarity(text):\n",
    "    vector = line2vec(text, D)\n",
    "    baseline_vector = gensim.matutils.dense2vec(np.ones(VECTOR_LEN))\n",
    "    \n",
    "    return gensim.matutils.cossim(vector, baseline_vector)\n",
    "\n",
    "def predict(sim, threshold = 0.45):\n",
    "    return 1 if sim >= threshold else 0"
   ]
  },
  {
   "cell_type": "code",
   "execution_count": 516,
   "metadata": {},
   "outputs": [],
   "source": [
    "THRESHOLD = 0.2\n",
    "\n",
    "data['similarity'] = data['full_content'].apply(similarity)\n",
    "data['predict'] = data['similarity'].apply(lambda t: predict(t, THRESHOLD))"
   ]
  },
  {
   "cell_type": "code",
   "execution_count": 517,
   "metadata": {},
   "outputs": [],
   "source": [
    "# print '(label == 1)', len(data[data.label == 1])\n",
    "# print 'max similarity of (label == 1)', max(data[data.label == 1].similarity)\n",
    "# print 'min similarity of (label == 1)', min(data[data.label == 1].similarity)\n",
    "\n",
    "# data_1 = data[data.label == 1]\n",
    "# print '(label == 1) and similarity >= THRESHOLD', len(data_1[data_1.similarity >= THRESHOLD])\n",
    "# print '(label == 1) and similarity > THRESHOLD', len(data_1[data_1.similarity < THRESHOLD])\n",
    "\n",
    "\n",
    "# print \n",
    "\n",
    "\n",
    "# print '(label == 0)', len(data[data.label == 0])\n",
    "# print 'max similarity of (label == 0)', max(data[data.label == 0].similarity)\n",
    "# print 'min similarity of (label == 0)', min(data[data.label == 0].similarity)\n",
    "\n",
    "# data_0 = data[data.label == 0]\n",
    "# print '(label == 0) and similarity >= THRESHOLD', len(data_0[data_0.similarity >= THRESHOLD])\n",
    "# print '(label == 0) and similarity < THRESHOLD', len(data_0[data_0.similarity < THRESHOLD])"
   ]
  },
  {
   "cell_type": "code",
   "execution_count": 518,
   "metadata": {
    "scrolled": false
   },
   "outputs": [
    {
     "name": "stdout",
     "output_type": "stream",
     "text": [
      "Confusion matrix, without normalization\n",
      "[[93  7]\n",
      " [35 65]]\n"
     ]
    },
    {
     "data": {
      "image/png": "[encoded data removed]",
      "text/plain": [
       "<matplotlib.figure.Figure at 0x7ff74ce37e10>"
      ]
     },
     "metadata": {},
     "output_type": "display_data"
    }
   ],
   "source": [
    "from sklearn.metrics import confusion_matrix\n",
    "y_true = data.label.tolist()\n",
    "y_pred = data.predict.tolist()\n",
    "cnf_matrix = confusion_matrix(y_true, y_pred)\n",
    "cnf_matrix\n",
    "\n",
    "def plot_confusion_matrix(cm, classes,\n",
    "                          normalize=False,\n",
    "                          title='Confusion matrix',\n",
    "                          cmap=plt.cm.Blues):\n",
    "    plt.imshow(cm, interpolation='nearest', cmap=cmap)\n",
    "    plt.title(title)\n",
    "    plt.colorbar()\n",
    "    tick_marks = np.arange(len(classes))\n",
    "    plt.xticks(tick_marks, classes, rotation=45)\n",
    "    plt.yticks(tick_marks, classes)\n",
    "\n",
    "    if normalize:\n",
    "        cm = cm.astype('float') / cm.sum(axis=1)[:, np.newaxis]\n",
    "        print(\"Normalized confusion matrix\")\n",
    "    else:\n",
    "        print('Confusion matrix, without normalization')\n",
    "\n",
    "    print(cm)\n",
    "\n",
    "    thresh = cm.max() / 2.\n",
    "    for i, j in itertools.product(range(cm.shape[0]), range(cm.shape[1])):\n",
    "        plt.text(j, i, cm[i, j],\n",
    "                 horizontalalignment=\"center\",\n",
    "                 color=\"white\" if cm[i, j] > thresh else \"black\")\n",
    "\n",
    "    plt.tight_layout()\n",
    "    plt.ylabel('True label')\n",
    "    plt.xlabel('Predicted label')\n",
    "\n",
    "plot_confusion_matrix(cnf_matrix, classes=[0,1],\n",
    "                      title='Confusion matrix, without normalization')"
   ]
  },
  {
   "cell_type": "code",
   "execution_count": 511,
   "metadata": {
    "collapsed": true
   },
   "outputs": [],
   "source": [
    "data_ = data"
   ]
  },
  {
   "cell_type": "code",
   "execution_count": 279,
   "metadata": {},
   "outputs": [
    {
     "name": "stderr",
     "output_type": "stream",
     "text": [
      "/usr/local/lib/python2.7/dist-packages/ipykernel_launcher.py:7: SettingWithCopyWarning: \n",
      "A value is trying to be set on a copy of a slice from a DataFrame.\n",
      "Try using .loc[row_indexer,col_indexer] = value instead\n",
      "\n",
      "See the caveats in the documentation: http://pandas.pydata.org/pandas-docs/stable/indexing.html#indexing-view-versus-copy\n",
      "  import sys\n"
     ]
    },
    {
     "ename": "UnicodeEncodeError",
     "evalue": "'ascii' codec can't encode character u'\\u2019' in position 1669: ordinal not in range(128)",
     "output_type": "error",
     "traceback": [
      "\u001b[0;31m---------------------------------------------------------------------------\u001b[0m",
      "\u001b[0;31mUnicodeEncodeError\u001b[0m                        Traceback (most recent call last)",
      "\u001b[0;32m<ipython-input-279-800d2345c956>\u001b[0m in \u001b[0;36m<module>\u001b[0;34m()\u001b[0m\n\u001b[1;32m      7\u001b[0m \u001b[0mdata\u001b[0m\u001b[0;34m[\u001b[0m\u001b[0;34m'full_content'\u001b[0m\u001b[0;34m]\u001b[0m \u001b[0;34m=\u001b[0m \u001b[0mdata\u001b[0m\u001b[0;34m[\u001b[0m\u001b[0;34m'title'\u001b[0m\u001b[0;34m]\u001b[0m \u001b[0;34m+\u001b[0m \u001b[0;34m' '\u001b[0m \u001b[0;34m+\u001b[0m \u001b[0mdata\u001b[0m\u001b[0;34m[\u001b[0m\u001b[0;34m'long_text'\u001b[0m\u001b[0;34m]\u001b[0m\u001b[0;34m\u001b[0m\u001b[0m\n\u001b[1;32m      8\u001b[0m \u001b[0mfull_content\u001b[0m \u001b[0;34m=\u001b[0m \u001b[0mdata\u001b[0m\u001b[0;34m[\u001b[0m\u001b[0;34m'full_content'\u001b[0m\u001b[0;34m]\u001b[0m\u001b[0;34m.\u001b[0m\u001b[0mtolist\u001b[0m\u001b[0;34m(\u001b[0m\u001b[0;34m)\u001b[0m\u001b[0;34m\u001b[0m\u001b[0m\n\u001b[0;32m----> 9\u001b[0;31m \u001b[0mfull_content\u001b[0m \u001b[0;34m=\u001b[0m \u001b[0;34m[\u001b[0m\u001b[0;34m[\u001b[0m\u001b[0mwordnet_lemmatizer\u001b[0m\u001b[0;34m.\u001b[0m\u001b[0mlemmatize\u001b[0m\u001b[0;34m(\u001b[0m\u001b[0mz\u001b[0m\u001b[0;34m)\u001b[0m \u001b[0;32mfor\u001b[0m \u001b[0mz\u001b[0m \u001b[0;32min\u001b[0m \u001b[0mtokenizer\u001b[0m\u001b[0;34m.\u001b[0m\u001b[0mtokenize\u001b[0m\u001b[0;34m(\u001b[0m\u001b[0mstr\u001b[0m\u001b[0;34m(\u001b[0m\u001b[0mt\u001b[0m\u001b[0;34m)\u001b[0m\u001b[0;34m.\u001b[0m\u001b[0mdecode\u001b[0m\u001b[0;34m(\u001b[0m\u001b[0;34m'utf-8'\u001b[0m\u001b[0;34m)\u001b[0m\u001b[0;34m.\u001b[0m\u001b[0mlower\u001b[0m\u001b[0;34m(\u001b[0m\u001b[0;34m)\u001b[0m\u001b[0;34m)\u001b[0m \u001b[0;32mif\u001b[0m \u001b[0mz\u001b[0m \u001b[0;32mnot\u001b[0m \u001b[0;32min\u001b[0m \u001b[0mSTOPWORDS\u001b[0m\u001b[0;34m]\u001b[0m \u001b[0;32mfor\u001b[0m \u001b[0mt\u001b[0m \u001b[0;32min\u001b[0m \u001b[0mfull_content\u001b[0m\u001b[0;34m]\u001b[0m\u001b[0;34m\u001b[0m\u001b[0m\n\u001b[0m\u001b[1;32m     10\u001b[0m \u001b[0;31m# full_content = [[z for z in str(t).lower().split(\" \") if z not in STOPWORDS] for t in full_content]\u001b[0m\u001b[0;34m\u001b[0m\u001b[0;34m\u001b[0m\u001b[0m\n\u001b[1;32m     11\u001b[0m \u001b[0;32mprint\u001b[0m \u001b[0mfull_content\u001b[0m\u001b[0;34m[\u001b[0m\u001b[0;34m:\u001b[0m\u001b[0;36m2\u001b[0m\u001b[0;34m]\u001b[0m\u001b[0;34m\u001b[0m\u001b[0m\n",
      "\u001b[0;31mUnicodeEncodeError\u001b[0m: 'ascii' codec can't encode character u'\\u2019' in position 1669: ordinal not in range(128)"
     ]
    }
   ],
   "source": [
    "post_predicted = data[data.predict == 1]\n",
    "post_predicted\n",
    "\n",
    "data = post_predicted\n",
    "\n",
    "# remove common words and tokenize\n",
    "data['full_content'] = data['title'] + ' ' + data['long_text']\n",
    "full_content = data['full_content'].tolist()\n",
    "full_content = [[wordnet_lemmatizer.lemmatize(z) for z in tokenizer.tokenize(str(t).decode('utf-8').lower()) if z not in STOPWORDS] for t in full_content]\n",
    "# full_content = [[z for z in str(t).lower().split(\" \") if z not in STOPWORDS] for t in full_content]\n",
    "print full_content[:2]\n",
    "with open(\"full_content\", \"wb\") as f:\n",
    "    f.write(str(full_content))\n",
    "    \n",
    "# remove words that appear only once\n",
    "from collections import defaultdict\n",
    "frequency = defaultdict(int)\n",
    "for text in full_content:\n",
    "    for token in text:\n",
    "        frequency[token] += 1\n",
    "\n",
    "# full_content = [[token for token in text if frequency[token] > 1] for text in full_content]\n",
    "print full_content[:2]\n",
    "\n",
    "dictionary = gensim.corpora.Dictionary(full_content)\n",
    "corpus = [dictionary.doc2bow(text) for text in full_content]\n",
    "\n",
    "NUM_TOPICS = 10\n",
    "NUM_TERMS = 100\n",
    "lda = gensim.models.ldamodel.LdaModel(corpus=corpus, id2word=dictionary, \n",
    "                                      num_topics=NUM_TOPICS, update_every=1, \n",
    "                                      chunksize=10000, passes=1)\n",
    "\n",
    "# select top 100 words for each of the 10 LDA topics\n",
    "TOP_KEYWORDS = [[word for word, _ in lda.show_topic(topicno, topn=NUM_TERMS)]\n",
    "             for topicno in range(lda.num_topics)]\n",
    "print(TOP_KEYWORDS[:3])"
   ]
  },
  {
   "cell_type": "code",
   "execution_count": 236,
   "metadata": {},
   "outputs": [],
   "source": [
    "# Export \n",
    "n = 0\n",
    "combined = []\n",
    "for _ in TOP_KEYWORDS:\n",
    "    combined += _\n",
    "\n",
    "combined_df = pd.DataFrame(combined)\n",
    "combined_df = pd.DataFrame(combined_df[0].value_counts().sort_values()).reset_index()\n",
    "combined_df.columns = ['keyword', 'c']\n",
    "\n",
    "keyword_in_predicted = combined_df.keyword.tolist()"
   ]
  },
  {
   "cell_type": "code",
   "execution_count": 237,
   "metadata": {},
   "outputs": [
    {
     "name": "stdout",
     "output_type": "stream",
     "text": [
      "growth\n",
      "board\n",
      "plant\n",
      "equity\n",
      "plan\n",
      "sale\n",
      "million\n",
      "percent\n",
      "new\n",
      "rate\n",
      "cost\n",
      "share\n",
      "financial\n",
      "worker\n",
      "bank\n",
      "fund\n",
      "layoff\n",
      "price\n",
      "business\n",
      "cut\n",
      "deal\n",
      "investment\n",
      "announced\n",
      "job\n",
      "employee\n",
      "labor\n",
      "union\n",
      "market\n"
     ]
    }
   ],
   "source": [
    "for k in keyword.keyword.tolist():\n",
    "    if k in keyword_in_predicted:\n",
    "        print k"
   ]
  },
  {
   "cell_type": "code",
   "execution_count": null,
   "metadata": {
    "collapsed": true
   },
   "outputs": [],
   "source": []
  },
  {
   "cell_type": "code",
   "execution_count": null,
   "metadata": {
    "collapsed": true
   },
   "outputs": [],
   "source": []
  },
  {
   "cell_type": "code",
   "execution_count": null,
   "metadata": {
    "collapsed": true
   },
   "outputs": [],
   "source": []
  },
  {
   "cell_type": "code",
   "execution_count": null,
   "metadata": {
    "collapsed": true
   },
   "outputs": [],
   "source": []
  },
  {
   "cell_type": "code",
   "execution_count": null,
   "metadata": {
    "collapsed": true
   },
   "outputs": [],
   "source": []
  },
  {
   "cell_type": "code",
   "execution_count": null,
   "metadata": {
    "collapsed": true
   },
   "outputs": [],
   "source": []
  },
  {
   "cell_type": "code",
   "execution_count": null,
   "metadata": {
    "collapsed": true
   },
   "outputs": [],
   "source": []
  },
  {
   "cell_type": "code",
   "execution_count": null,
   "metadata": {
    "collapsed": true
   },
   "outputs": [],
   "source": []
  },
  {
   "cell_type": "code",
   "execution_count": null,
   "metadata": {
    "collapsed": true
   },
   "outputs": [],
   "source": []
  },
  {
   "cell_type": "code",
   "execution_count": null,
   "metadata": {
    "collapsed": true
   },
   "outputs": [],
   "source": []
  },
  {
   "cell_type": "code",
   "execution_count": null,
   "metadata": {
    "collapsed": true
   },
   "outputs": [],
   "source": []
  },
  {
   "cell_type": "code",
   "execution_count": null,
   "metadata": {
    "collapsed": true
   },
   "outputs": [],
   "source": []
  },
  {
   "cell_type": "code",
   "execution_count": null,
   "metadata": {
    "collapsed": true
   },
   "outputs": [],
   "source": []
  },
  {
   "cell_type": "code",
   "execution_count": null,
   "metadata": {
    "collapsed": true
   },
   "outputs": [],
   "source": []
  },
  {
   "cell_type": "code",
   "execution_count": 280,
   "metadata": {},
   "outputs": [
    {
     "data": {
      "text/plain": [
       "<matplotlib.axes._subplots.AxesSubplot at 0x7ff74ca87d90>"
      ]
     },
     "execution_count": 280,
     "metadata": {},
     "output_type": "execute_result"
    },
    {
     "data": {
      "image/png": "[encoded data removed]",
      "text/plain": [
       "<matplotlib.figure.Figure at 0x7ff74caaeb50>"
      ]
     },
     "metadata": {},
     "output_type": "display_data"
    }
   ],
   "source": [
    "%matplotlib inline\n",
    "import matplotlib as plt\n",
    "\n",
    "data[data.label == 1].similarity.plot.hist(figsize=(20,10), bins=20)"
   ]
  },
  {
   "cell_type": "code",
   "execution_count": null,
   "metadata": {
    "collapsed": true
   },
   "outputs": [],
   "source": []
  },
  {
   "cell_type": "code",
   "execution_count": null,
   "metadata": {
    "collapsed": true
   },
   "outputs": [],
   "source": []
  },
  {
   "cell_type": "code",
   "execution_count": null,
   "metadata": {
    "collapsed": true
   },
   "outputs": [],
   "source": []
  },
  {
   "cell_type": "code",
   "execution_count": 281,
   "metadata": {},
   "outputs": [
    {
     "ename": "TypeError",
     "evalue": "Empty 'DataFrame': no numeric data to plot",
     "output_type": "error",
     "traceback": [
      "\u001b[0;31m---------------------------------------------------------------------------\u001b[0m",
      "\u001b[0;31mTypeError\u001b[0m                                 Traceback (most recent call last)",
      "\u001b[0;32m<ipython-input-281-78687e0c89f6>\u001b[0m in \u001b[0;36m<module>\u001b[0;34m()\u001b[0m\n\u001b[0;32m----> 1\u001b[0;31m \u001b[0mdata\u001b[0m\u001b[0;34m[\u001b[0m\u001b[0mdata\u001b[0m\u001b[0;34m.\u001b[0m\u001b[0mlabel\u001b[0m \u001b[0;34m==\u001b[0m \u001b[0;36m0\u001b[0m\u001b[0;34m]\u001b[0m\u001b[0;34m.\u001b[0m\u001b[0msimilarity\u001b[0m\u001b[0;34m.\u001b[0m\u001b[0mplot\u001b[0m\u001b[0;34m.\u001b[0m\u001b[0mhist\u001b[0m\u001b[0;34m(\u001b[0m\u001b[0mfigsize\u001b[0m\u001b[0;34m=\u001b[0m\u001b[0;34m(\u001b[0m\u001b[0;36m20\u001b[0m\u001b[0;34m,\u001b[0m\u001b[0;36m10\u001b[0m\u001b[0;34m)\u001b[0m\u001b[0;34m,\u001b[0m \u001b[0mbins\u001b[0m\u001b[0;34m=\u001b[0m\u001b[0;36m20\u001b[0m\u001b[0;34m)\u001b[0m\u001b[0;34m\u001b[0m\u001b[0m\n\u001b[0m",
      "\u001b[0;32m/home/duyetdev/.local/lib/python2.7/site-packages/pandas/plotting/_core.pyc\u001b[0m in \u001b[0;36mhist\u001b[0;34m(self, bins, **kwds)\u001b[0m\n\u001b[1;32m   2529\u001b[0m         \u001b[0maxes\u001b[0m \u001b[0;34m:\u001b[0m \u001b[0mmatplotlib\u001b[0m\u001b[0;34m.\u001b[0m\u001b[0mAxesSubplot\u001b[0m \u001b[0;32mor\u001b[0m \u001b[0mnp\u001b[0m\u001b[0;34m.\u001b[0m\u001b[0marray\u001b[0m \u001b[0mof\u001b[0m \u001b[0mthem\u001b[0m\u001b[0;34m\u001b[0m\u001b[0m\n\u001b[1;32m   2530\u001b[0m         \"\"\"\n\u001b[0;32m-> 2531\u001b[0;31m         \u001b[0;32mreturn\u001b[0m \u001b[0mself\u001b[0m\u001b[0;34m(\u001b[0m\u001b[0mkind\u001b[0m\u001b[0;34m=\u001b[0m\u001b[0;34m'hist'\u001b[0m\u001b[0;34m,\u001b[0m \u001b[0mbins\u001b[0m\u001b[0;34m=\u001b[0m\u001b[0mbins\u001b[0m\u001b[0;34m,\u001b[0m \u001b[0;34m**\u001b[0m\u001b[0mkwds\u001b[0m\u001b[0;34m)\u001b[0m\u001b[0;34m\u001b[0m\u001b[0m\n\u001b[0m\u001b[1;32m   2532\u001b[0m \u001b[0;34m\u001b[0m\u001b[0m\n\u001b[1;32m   2533\u001b[0m     \u001b[0;32mdef\u001b[0m \u001b[0mkde\u001b[0m\u001b[0;34m(\u001b[0m\u001b[0mself\u001b[0m\u001b[0;34m,\u001b[0m \u001b[0;34m**\u001b[0m\u001b[0mkwds\u001b[0m\u001b[0;34m)\u001b[0m\u001b[0;34m:\u001b[0m\u001b[0;34m\u001b[0m\u001b[0m\n",
      "\u001b[0;32m/home/duyetdev/.local/lib/python2.7/site-packages/pandas/plotting/_core.pyc\u001b[0m in \u001b[0;36m__call__\u001b[0;34m(self, kind, ax, figsize, use_index, title, grid, legend, style, logx, logy, loglog, xticks, yticks, xlim, ylim, rot, fontsize, colormap, table, yerr, xerr, label, secondary_y, **kwds)\u001b[0m\n\u001b[1;32m   2441\u001b[0m                            \u001b[0mcolormap\u001b[0m\u001b[0;34m=\u001b[0m\u001b[0mcolormap\u001b[0m\u001b[0;34m,\u001b[0m \u001b[0mtable\u001b[0m\u001b[0;34m=\u001b[0m\u001b[0mtable\u001b[0m\u001b[0;34m,\u001b[0m \u001b[0myerr\u001b[0m\u001b[0;34m=\u001b[0m\u001b[0myerr\u001b[0m\u001b[0;34m,\u001b[0m\u001b[0;34m\u001b[0m\u001b[0m\n\u001b[1;32m   2442\u001b[0m                            \u001b[0mxerr\u001b[0m\u001b[0;34m=\u001b[0m\u001b[0mxerr\u001b[0m\u001b[0;34m,\u001b[0m \u001b[0mlabel\u001b[0m\u001b[0;34m=\u001b[0m\u001b[0mlabel\u001b[0m\u001b[0;34m,\u001b[0m \u001b[0msecondary_y\u001b[0m\u001b[0;34m=\u001b[0m\u001b[0msecondary_y\u001b[0m\u001b[0;34m,\u001b[0m\u001b[0;34m\u001b[0m\u001b[0m\n\u001b[0;32m-> 2443\u001b[0;31m                            **kwds)\n\u001b[0m\u001b[1;32m   2444\u001b[0m     \u001b[0m__call__\u001b[0m\u001b[0;34m.\u001b[0m\u001b[0m__doc__\u001b[0m \u001b[0;34m=\u001b[0m \u001b[0mplot_series\u001b[0m\u001b[0;34m.\u001b[0m\u001b[0m__doc__\u001b[0m\u001b[0;34m\u001b[0m\u001b[0m\n\u001b[1;32m   2445\u001b[0m \u001b[0;34m\u001b[0m\u001b[0m\n",
      "\u001b[0;32m/home/duyetdev/.local/lib/python2.7/site-packages/pandas/plotting/_core.pyc\u001b[0m in \u001b[0;36mplot_series\u001b[0;34m(data, kind, ax, figsize, use_index, title, grid, legend, style, logx, logy, loglog, xticks, yticks, xlim, ylim, rot, fontsize, colormap, table, yerr, xerr, label, secondary_y, **kwds)\u001b[0m\n\u001b[1;32m   1882\u001b[0m                  \u001b[0myerr\u001b[0m\u001b[0;34m=\u001b[0m\u001b[0myerr\u001b[0m\u001b[0;34m,\u001b[0m \u001b[0mxerr\u001b[0m\u001b[0;34m=\u001b[0m\u001b[0mxerr\u001b[0m\u001b[0;34m,\u001b[0m\u001b[0;34m\u001b[0m\u001b[0m\n\u001b[1;32m   1883\u001b[0m                  \u001b[0mlabel\u001b[0m\u001b[0;34m=\u001b[0m\u001b[0mlabel\u001b[0m\u001b[0;34m,\u001b[0m \u001b[0msecondary_y\u001b[0m\u001b[0;34m=\u001b[0m\u001b[0msecondary_y\u001b[0m\u001b[0;34m,\u001b[0m\u001b[0;34m\u001b[0m\u001b[0m\n\u001b[0;32m-> 1884\u001b[0;31m                  **kwds)\n\u001b[0m\u001b[1;32m   1885\u001b[0m \u001b[0;34m\u001b[0m\u001b[0m\n\u001b[1;32m   1886\u001b[0m \u001b[0;34m\u001b[0m\u001b[0m\n",
      "\u001b[0;32m/home/duyetdev/.local/lib/python2.7/site-packages/pandas/plotting/_core.pyc\u001b[0m in \u001b[0;36m_plot\u001b[0;34m(data, x, y, subplots, ax, kind, **kwds)\u001b[0m\n\u001b[1;32m   1682\u001b[0m         \u001b[0mplot_obj\u001b[0m \u001b[0;34m=\u001b[0m \u001b[0mklass\u001b[0m\u001b[0;34m(\u001b[0m\u001b[0mdata\u001b[0m\u001b[0;34m,\u001b[0m \u001b[0msubplots\u001b[0m\u001b[0;34m=\u001b[0m\u001b[0msubplots\u001b[0m\u001b[0;34m,\u001b[0m \u001b[0max\u001b[0m\u001b[0;34m=\u001b[0m\u001b[0max\u001b[0m\u001b[0;34m,\u001b[0m \u001b[0mkind\u001b[0m\u001b[0;34m=\u001b[0m\u001b[0mkind\u001b[0m\u001b[0;34m,\u001b[0m \u001b[0;34m**\u001b[0m\u001b[0mkwds\u001b[0m\u001b[0;34m)\u001b[0m\u001b[0;34m\u001b[0m\u001b[0m\n\u001b[1;32m   1683\u001b[0m \u001b[0;34m\u001b[0m\u001b[0m\n\u001b[0;32m-> 1684\u001b[0;31m     \u001b[0mplot_obj\u001b[0m\u001b[0;34m.\u001b[0m\u001b[0mgenerate\u001b[0m\u001b[0;34m(\u001b[0m\u001b[0;34m)\u001b[0m\u001b[0;34m\u001b[0m\u001b[0m\n\u001b[0m\u001b[1;32m   1685\u001b[0m     \u001b[0mplot_obj\u001b[0m\u001b[0;34m.\u001b[0m\u001b[0mdraw\u001b[0m\u001b[0;34m(\u001b[0m\u001b[0;34m)\u001b[0m\u001b[0;34m\u001b[0m\u001b[0m\n\u001b[1;32m   1686\u001b[0m     \u001b[0;32mreturn\u001b[0m \u001b[0mplot_obj\u001b[0m\u001b[0;34m.\u001b[0m\u001b[0mresult\u001b[0m\u001b[0;34m\u001b[0m\u001b[0m\n",
      "\u001b[0;32m/home/duyetdev/.local/lib/python2.7/site-packages/pandas/plotting/_core.pyc\u001b[0m in \u001b[0;36mgenerate\u001b[0;34m(self)\u001b[0m\n\u001b[1;32m    236\u001b[0m     \u001b[0;32mdef\u001b[0m \u001b[0mgenerate\u001b[0m\u001b[0;34m(\u001b[0m\u001b[0mself\u001b[0m\u001b[0;34m)\u001b[0m\u001b[0;34m:\u001b[0m\u001b[0;34m\u001b[0m\u001b[0m\n\u001b[1;32m    237\u001b[0m         \u001b[0mself\u001b[0m\u001b[0;34m.\u001b[0m\u001b[0m_args_adjust\u001b[0m\u001b[0;34m(\u001b[0m\u001b[0;34m)\u001b[0m\u001b[0;34m\u001b[0m\u001b[0m\n\u001b[0;32m--> 238\u001b[0;31m         \u001b[0mself\u001b[0m\u001b[0;34m.\u001b[0m\u001b[0m_compute_plot_data\u001b[0m\u001b[0;34m(\u001b[0m\u001b[0;34m)\u001b[0m\u001b[0;34m\u001b[0m\u001b[0m\n\u001b[0m\u001b[1;32m    239\u001b[0m         \u001b[0mself\u001b[0m\u001b[0;34m.\u001b[0m\u001b[0m_setup_subplots\u001b[0m\u001b[0;34m(\u001b[0m\u001b[0;34m)\u001b[0m\u001b[0;34m\u001b[0m\u001b[0m\n\u001b[1;32m    240\u001b[0m         \u001b[0mself\u001b[0m\u001b[0;34m.\u001b[0m\u001b[0m_make_plot\u001b[0m\u001b[0;34m(\u001b[0m\u001b[0;34m)\u001b[0m\u001b[0;34m\u001b[0m\u001b[0m\n",
      "\u001b[0;32m/home/duyetdev/.local/lib/python2.7/site-packages/pandas/plotting/_core.pyc\u001b[0m in \u001b[0;36m_compute_plot_data\u001b[0;34m(self)\u001b[0m\n\u001b[1;32m    345\u001b[0m         \u001b[0;32mif\u001b[0m \u001b[0mis_empty\u001b[0m\u001b[0;34m:\u001b[0m\u001b[0;34m\u001b[0m\u001b[0m\n\u001b[1;32m    346\u001b[0m             raise TypeError('Empty {0!r}: no numeric data to '\n\u001b[0;32m--> 347\u001b[0;31m                             'plot'.format(numeric_data.__class__.__name__))\n\u001b[0m\u001b[1;32m    348\u001b[0m \u001b[0;34m\u001b[0m\u001b[0m\n\u001b[1;32m    349\u001b[0m         \u001b[0mself\u001b[0m\u001b[0;34m.\u001b[0m\u001b[0mdata\u001b[0m \u001b[0;34m=\u001b[0m \u001b[0mnumeric_data\u001b[0m\u001b[0;34m\u001b[0m\u001b[0m\n",
      "\u001b[0;31mTypeError\u001b[0m: Empty 'DataFrame': no numeric data to plot"
     ]
    }
   ],
   "source": [
    "data[data.label == 0].similarity.plot.hist(figsize=(20,10), bins=20)"
   ]
  },
  {
   "cell_type": "code",
   "execution_count": null,
   "metadata": {
    "collapsed": true
   },
   "outputs": [],
   "source": []
  },
  {
   "cell_type": "code",
   "execution_count": 282,
   "metadata": {},
   "outputs": [
    {
     "data": {
      "text/plain": [
       "<Container object of 10 artists>"
      ]
     },
     "execution_count": 282,
     "metadata": {},
     "output_type": "execute_result"
    },
    {
     "data": {
      "image/png": "[encoded data removed]",
      "text/plain": [
       "<matplotlib.figure.Figure at 0x7ff74cbf0e90>"
      ]
     },
     "metadata": {},
     "output_type": "display_data"
    }
   ],
   "source": [
    "%matplotlib inline\n",
    "import numpy as np\n",
    "import matplotlib.pyplot as plt\n",
    "import pandas\n",
    "#import seaborn\n",
    "#seaborn.set(style='ticks')\n",
    "\n",
    "np.random.seed(0)\n",
    "fig, ax = plt.subplots()\n",
    "\n",
    "a_heights, a_bins = np.histogram(data[data.label == 1].similarity)\n",
    "b_heights, b_bins = np.histogram(data[data.label == 0].similarity, bins=a_bins)\n",
    "\n",
    "width = (a_bins[1] - a_bins[0])/3\n",
    "\n",
    "ax.bar(a_bins[:-1], a_heights, width=width, facecolor='cornflowerblue')\n",
    "ax.bar(b_bins[:-1]+width, b_heights, width=width, facecolor='seagreen')"
   ]
  },
  {
   "cell_type": "code",
   "execution_count": null,
   "metadata": {
    "collapsed": true
   },
   "outputs": [],
   "source": []
  },
  {
   "cell_type": "code",
   "execution_count": 251,
   "metadata": {
    "scrolled": false
   },
   "outputs": [
    {
     "data": {
      "text/plain": [
       "['As drug prices drop, generics makers fight back with deals']"
      ]
     },
     "execution_count": 251,
     "metadata": {},
     "output_type": "execute_result"
    }
   ],
   "source": [
    "THRESHOLD = 0.6\n",
    "data_0[data_0.similarity >= THRESHOLD].title.tolist()"
   ]
  },
  {
   "cell_type": "code",
   "execution_count": 202,
   "metadata": {},
   "outputs": [
    {
     "data": {
      "text/plain": [
       "['Vonn wins in second race after injury layoff',\n",
       " 'Federer expects injury layoff to prolong playing career',\n",
       " 'BRIEF-Hanjin Shipping sends layoff notices effective Dec. 10 to 560 crew members- Nikkei',\n",
       " 'Sony Pictures to announce layoffs across divisions -source',\n",
       " 'Dow accidentally released layoffs news early: source',\n",
       " 'Dow accidentally released layoffs news early: source',\n",
       " 'Dow accidentally released layoffs news early - source',\n",
       " 'Twitter plans layoffs next week - Re/code',\n",
       " 'Sharapova delights at gutsy win on return from layoff',\n",
       " 'Layoffs hit Goodwin Procter amid decline in litigation',\n",
       " 'Richards-Ross to make comeback after injury layoff',\n",
       " 'BRIEF-AMD planning significant layoffs following recent revenue warning - source',\n",
       " \"Athletics: Defar runs year's fastest 3,000 meter after long layoff\",\n",
       " 'Female truck driver can sue over layoff - 3rd Circuit',\n",
       " 'Masters thumbs up for Australian Day after injury layoff',\n",
       " 'Brazil state banks face reality check as downturn sparks layoffs',\n",
       " \"Rangers' Feliz faces long layoff after elbow surgery\",\n",
       " 'BRIEF-Pohjois-Karjalan Kirjapaino: Sanomalehti starts negotiations concerning layoffs',\n",
       " 'Athletics-Richards-Ross to make comeback after injury layoff',\n",
       " 'China Premier Li: will try to avoid mass layoffs in restructuring of steel, coal sectors',\n",
       " 'China will ward off mass unemployment:Premier Li',\n",
       " 'China will ward off mass unemployment - Premier Li',\n",
       " 'Clippers forward Griffin set to return against 76ers',\n",
       " 'Vonn unscathed after training crash',\n",
       " 'Pittsburgh Pirates - PlayerWatch',\n",
       " 'Tiger drops out of two PGA Tour events due to back spasms',\n",
       " 'Woods cancels news conference due to bad back',\n",
       " 'Woods withdraws from Dubai Desert Classic with bad back',\n",
       " 'Djokovic survives shock to reach Monte Carlo round three',\n",
       " 'McIlroy set for back scan after painful South Africa defeat',\n",
       " 'BRIEF-Canam Group Inc says it has reorganized its structural steel activities',\n",
       " 'World Relief to lay off 140 U.S. staff because of Trump refugee move',\n",
       " 'Keys rooting for Kvitova to conquer Wimbledon on comeback',\n",
       " 'Never-say-die Svitolina ends Martic run in Paris',\n",
       " 'Nadal powers past Fognini into Miami Open final',\n",
       " 'Federer returns with easy win over Paire in Dubai',\n",
       " 'I will never feel great again, says Woods',\n",
       " 'Time away has been key for Federer, Nadal, says Corretja',\n",
       " 'Time away has been key for Federer, Nadal, says Corretja',\n",
       " 'Practice king Federer ready for competitive return',\n",
       " 'Kvitova into Birmingham semis, Vandeweghe injury scare',\n",
       " 'Kvitova into Birmingham semis, Vandeweghe injury scare',\n",
       " 'Federer signals intent with rout of Gasquet',\n",
       " 'USC breezes by Pepperdine',\n",
       " 'Appeals court tosses age bias lawsuit against PharMerica',\n",
       " 'St. Louis Cardinals - PlayerWatch',\n",
       " 'As Wimbledon glory beckons, Federer muses on life after tennis',\n",
       " 'Lynn helps Cardinals shut out Pirates 4-0',\n",
       " 'Preview: Thunder at Grizzlies',\n",
       " 'Preview: Magic at Bulls',\n",
       " 'Preview: Nets at Grizzlies',\n",
       " 'Rusty Murray wins in Monte Carlo, Nadal taken to three sets',\n",
       " 'Missing Miami title defense was refreshing, says Djokovic',\n",
       " 'Soccer: Debate rages about Ronaldo, Benzema, Bale despite Real win',\n",
       " 'McIlroy grits it out to stay in grand slam hunt',\n",
       " 'Preview: Hawks at Pacers',\n",
       " 'Preview: Maple Leafs at Rangers',\n",
       " 'McIlroy still resents Olympics for forcing his hand',\n",
       " 'McIlroy still resents Olympics for forcing his hand',\n",
       " 'Preview: Virginia vs. Providence',\n",
       " 'Penguins captain Crosby makes season debut',\n",
       " 'Preview: Raptors at Cavaliers',\n",
       " 'Preview: Heat at Hawks',\n",
       " 'Preview: Blues at Wild']"
      ]
     },
     "execution_count": 202,
     "metadata": {},
     "output_type": "execute_result"
    }
   ],
   "source": [
    "THRESHOLD = 0.25\n",
    "data_1[data_1.similarity < THRESHOLD].title.tolist()"
   ]
  },
  {
   "cell_type": "code",
   "execution_count": null,
   "metadata": {
    "collapsed": true
   },
   "outputs": [],
   "source": []
  }
 ],
 "metadata": {
  "kernelspec": {
   "display_name": "Python 2",
   "language": "python",
   "name": "python2"
  },
  "language_info": {
   "codemirror_mode": {
    "name": "ipython",
    "version": 2
   },
   "file_extension": ".py",
   "mimetype": "text/x-python",
   "name": "python",
   "nbconvert_exporter": "python",
   "pygments_lexer": "ipython2",
   "version": "2.7.12"
  }
 },
 "nbformat": 4,
 "nbformat_minor": 2
}
